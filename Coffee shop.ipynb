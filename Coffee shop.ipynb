{
 "cells": [
  {
   "cell_type": "code",
   "execution_count": 1,
   "metadata": {},
   "outputs": [
    {
     "name": "stdout",
     "output_type": "stream",
     "text": [
      "Solving environment: done\n",
      "\n",
      "\n",
      "==> WARNING: A newer version of conda exists. <==\n",
      "  current version: 4.5.11\n",
      "  latest version: 4.8.2\n",
      "\n",
      "Please update conda by running\n",
      "\n",
      "    $ conda update -n base -c defaults conda\n",
      "\n",
      "\n",
      "\n",
      "# All requested packages already installed.\n",
      "\n",
      "Solving environment: done\n",
      "\n",
      "\n",
      "==> WARNING: A newer version of conda exists. <==\n",
      "  current version: 4.5.11\n",
      "  latest version: 4.8.2\n",
      "\n",
      "Please update conda by running\n",
      "\n",
      "    $ conda update -n base -c defaults conda\n",
      "\n",
      "\n",
      "\n",
      "# All requested packages already installed.\n",
      "\n",
      "Libraries imported.\n"
     ]
    }
   ],
   "source": [
    "import numpy as np # library to handle data in a vectorized manner\n",
    "\n",
    "import pandas as pd # library for data analsysis\n",
    "pd.set_option('display.max_columns', None)\n",
    "pd.set_option('display.max_rows', None)\n",
    "\n",
    "import json # library to handle JSON files\n",
    "\n",
    "!conda install -c conda-forge geopy --yes # uncomment this line if you haven't completed the Foursquare API lab\n",
    "from geopy.geocoders import Nominatim # convert an address into latitude and longitude values\n",
    "\n",
    "import requests # library to handle requests\n",
    "from pandas.io.json import json_normalize # tranform JSON file into a pandas dataframe\n",
    "\n",
    "# Matplotlib and associated plotting modules\n",
    "import matplotlib.cm as cm\n",
    "import matplotlib.colors as colors\n",
    "\n",
    "# import k-means from clustering stage\n",
    "from sklearn.cluster import KMeans\n",
    "\n",
    "!conda install -c conda-forge folium=0.5.0 --yes # uncomment this line if you haven't completed the Foursquare API lab\n",
    "import folium # map rendering library\n",
    "\n",
    "print('Libraries imported.')"
   ]
  },
  {
   "cell_type": "code",
   "execution_count": 21,
   "metadata": {},
   "outputs": [],
   "source": [
    "CLIENT_ID = 'XWWKC4DCATGXLDLXCE2F3UATKKBSNBGEF2D4CCXWK1CRJDDH' # your Foursquare ID\n",
    "CLIENT_SECRET = 'XXI0QDDDFEU3AKQLM1NKABJ5BDV04VJJC5CCZDVHN0E1UECM' # your Foursquare Secret\n",
    "VERSION = '20200217'\n",
    "LIMIT = 500"
   ]
  },
  {
   "cell_type": "code",
   "execution_count": 22,
   "metadata": {},
   "outputs": [],
   "source": [
    "!wget -q -O 'newyork_data.json' https://cocl.us/new_york_dataset"
   ]
  },
  {
   "cell_type": "code",
   "execution_count": 28,
   "metadata": {},
   "outputs": [
    {
     "name": "stdout",
     "output_type": "stream",
     "text": [
      "40.8466508 -73.8785937\n"
     ]
    }
   ],
   "source": [
    "address = 'Bronx, New York, NY'\n",
    "\n",
    "geolocator = Nominatim(user_agent=\"foursquare_agent\")\n",
    "location = geolocator.geocode(address)\n",
    "latitude = location.latitude\n",
    "longitude = location.longitude\n",
    "print(latitude, longitude)"
   ]
  },
  {
   "cell_type": "code",
   "execution_count": 42,
   "metadata": {},
   "outputs": [
    {
     "data": {
      "text/plain": [
       "'https://api.foursquare.com/v2/venues/search?client_id=XWWKC4DCATGXLDLXCE2F3UATKKBSNBGEF2D4CCXWK1CRJDDH&client_secret=XXI0QDDDFEU3AKQLM1NKABJ5BDV04VJJC5CCZDVHN0E1UECM&ll=40.8466508,-73.8785937&v=20200217&query=Café&radius=1000&limit=500'"
      ]
     },
     "execution_count": 42,
     "metadata": {},
     "output_type": "execute_result"
    }
   ],
   "source": [
    "search_query = 'Café'\n",
    "radius = 1000\n",
    "\n",
    "url = 'https://api.foursquare.com/v2/venues/search?client_id={}&client_secret={}&ll={},{}&v={}&query={}&radius={}&limit={}'.format(CLIENT_ID, CLIENT_SECRET, latitude, longitude, VERSION, search_query, radius, LIMIT)\n",
    "url"
   ]
  },
  {
   "cell_type": "code",
   "execution_count": 43,
   "metadata": {},
   "outputs": [
    {
     "data": {
      "text/html": [
       "<div>\n",
       "<style scoped>\n",
       "    .dataframe tbody tr th:only-of-type {\n",
       "        vertical-align: middle;\n",
       "    }\n",
       "\n",
       "    .dataframe tbody tr th {\n",
       "        vertical-align: top;\n",
       "    }\n",
       "\n",
       "    .dataframe thead th {\n",
       "        text-align: right;\n",
       "    }\n",
       "</style>\n",
       "<table border=\"1\" class=\"dataframe\">\n",
       "  <thead>\n",
       "    <tr style=\"text-align: right;\">\n",
       "      <th></th>\n",
       "      <th>id</th>\n",
       "      <th>name</th>\n",
       "      <th>categories</th>\n",
       "      <th>referralId</th>\n",
       "      <th>hasPerk</th>\n",
       "      <th>location.address</th>\n",
       "      <th>location.lat</th>\n",
       "      <th>location.lng</th>\n",
       "      <th>location.labeledLatLngs</th>\n",
       "      <th>location.distance</th>\n",
       "      <th>location.postalCode</th>\n",
       "      <th>location.cc</th>\n",
       "      <th>location.city</th>\n",
       "      <th>location.state</th>\n",
       "      <th>location.country</th>\n",
       "      <th>location.formattedAddress</th>\n",
       "      <th>location.crossStreet</th>\n",
       "      <th>delivery.id</th>\n",
       "      <th>delivery.url</th>\n",
       "      <th>delivery.provider.name</th>\n",
       "      <th>delivery.provider.icon.prefix</th>\n",
       "      <th>delivery.provider.icon.sizes</th>\n",
       "      <th>delivery.provider.icon.name</th>\n",
       "      <th>venuePage.id</th>\n",
       "    </tr>\n",
       "  </thead>\n",
       "  <tbody>\n",
       "    <tr>\n",
       "      <th>0</th>\n",
       "      <td>4bb648cef562ef3b3fea2f97</td>\n",
       "      <td>Morrone Pastry Shop &amp; Cafe</td>\n",
       "      <td>[{'id': '4bf58dd8d48988d1d0941735', 'name': 'D...</td>\n",
       "      <td>v-1581896699</td>\n",
       "      <td>False</td>\n",
       "      <td>2349 Arthur Ave</td>\n",
       "      <td>40.854636</td>\n",
       "      <td>-73.888400</td>\n",
       "      <td>[{'label': 'display', 'lat': 40.85463575037460...</td>\n",
       "      <td>1213</td>\n",
       "      <td>10458</td>\n",
       "      <td>US</td>\n",
       "      <td>Bronx</td>\n",
       "      <td>NY</td>\n",
       "      <td>United States</td>\n",
       "      <td>[2349 Arthur Ave, Bronx, NY 10458, United States]</td>\n",
       "      <td>NaN</td>\n",
       "      <td>NaN</td>\n",
       "      <td>NaN</td>\n",
       "      <td>NaN</td>\n",
       "      <td>NaN</td>\n",
       "      <td>NaN</td>\n",
       "      <td>NaN</td>\n",
       "      <td>NaN</td>\n",
       "    </tr>\n",
       "    <tr>\n",
       "      <th>1</th>\n",
       "      <td>4c79d294278eb713f6a05580</td>\n",
       "      <td>Cafe al Mercato</td>\n",
       "      <td>[{'id': '4bf58dd8d48988d110941735', 'name': 'I...</td>\n",
       "      <td>v-1581896699</td>\n",
       "      <td>False</td>\n",
       "      <td>2344 Arthur Ave</td>\n",
       "      <td>40.854176</td>\n",
       "      <td>-73.888085</td>\n",
       "      <td>[{'label': 'display', 'lat': 40.85417649340613...</td>\n",
       "      <td>1157</td>\n",
       "      <td>10458</td>\n",
       "      <td>US</td>\n",
       "      <td>Bronx</td>\n",
       "      <td>NY</td>\n",
       "      <td>United States</td>\n",
       "      <td>[2344 Arthur Ave, Bronx, NY 10458, United States]</td>\n",
       "      <td>NaN</td>\n",
       "      <td>NaN</td>\n",
       "      <td>NaN</td>\n",
       "      <td>NaN</td>\n",
       "      <td>NaN</td>\n",
       "      <td>NaN</td>\n",
       "      <td>NaN</td>\n",
       "      <td>NaN</td>\n",
       "    </tr>\n",
       "    <tr>\n",
       "      <th>2</th>\n",
       "      <td>44941e38f964a52081341fe3</td>\n",
       "      <td>Arthur Avenue Cafe</td>\n",
       "      <td>[{'id': '4bf58dd8d48988d110941735', 'name': 'I...</td>\n",
       "      <td>v-1581896699</td>\n",
       "      <td>False</td>\n",
       "      <td>2329 Arthur Ave</td>\n",
       "      <td>40.854068</td>\n",
       "      <td>-73.888838</td>\n",
       "      <td>[{'label': 'display', 'lat': 40.85406831774407...</td>\n",
       "      <td>1194</td>\n",
       "      <td>10458</td>\n",
       "      <td>US</td>\n",
       "      <td>Bronx</td>\n",
       "      <td>NY</td>\n",
       "      <td>United States</td>\n",
       "      <td>[2329 Arthur Ave (Crescent Avenue), Bronx, NY ...</td>\n",
       "      <td>Crescent Avenue</td>\n",
       "      <td>NaN</td>\n",
       "      <td>NaN</td>\n",
       "      <td>NaN</td>\n",
       "      <td>NaN</td>\n",
       "      <td>NaN</td>\n",
       "      <td>NaN</td>\n",
       "      <td>NaN</td>\n",
       "    </tr>\n",
       "    <tr>\n",
       "      <th>3</th>\n",
       "      <td>4b8956c2f964a520d62c32e3</td>\n",
       "      <td>The Dancing Crane Cafe</td>\n",
       "      <td>[{'id': '4bf58dd8d48988d14e941735', 'name': 'A...</td>\n",
       "      <td>v-1581896699</td>\n",
       "      <td>False</td>\n",
       "      <td>2300 Southern Blvd</td>\n",
       "      <td>40.849698</td>\n",
       "      <td>-73.880404</td>\n",
       "      <td>[{'label': 'display', 'lat': 40.84969808989766...</td>\n",
       "      <td>371</td>\n",
       "      <td>10460</td>\n",
       "      <td>US</td>\n",
       "      <td>Bronx</td>\n",
       "      <td>NY</td>\n",
       "      <td>United States</td>\n",
       "      <td>[2300 Southern Blvd (Bronx Zoo), Bronx, NY 104...</td>\n",
       "      <td>Bronx Zoo</td>\n",
       "      <td>NaN</td>\n",
       "      <td>NaN</td>\n",
       "      <td>NaN</td>\n",
       "      <td>NaN</td>\n",
       "      <td>NaN</td>\n",
       "      <td>NaN</td>\n",
       "      <td>NaN</td>\n",
       "    </tr>\n",
       "    <tr>\n",
       "      <th>4</th>\n",
       "      <td>4c406ea5520fa5938000c8ac</td>\n",
       "      <td>Wild Asia Cafe</td>\n",
       "      <td>[{'id': '4bf58dd8d48988d16e941735', 'name': 'F...</td>\n",
       "      <td>v-1581896699</td>\n",
       "      <td>False</td>\n",
       "      <td>NaN</td>\n",
       "      <td>40.845300</td>\n",
       "      <td>-73.877109</td>\n",
       "      <td>[{'label': 'display', 'lat': 40.84530017553037...</td>\n",
       "      <td>195</td>\n",
       "      <td>10460</td>\n",
       "      <td>US</td>\n",
       "      <td>Bronx</td>\n",
       "      <td>NY</td>\n",
       "      <td>United States</td>\n",
       "      <td>[Bronx, NY 10460, United States]</td>\n",
       "      <td>NaN</td>\n",
       "      <td>NaN</td>\n",
       "      <td>NaN</td>\n",
       "      <td>NaN</td>\n",
       "      <td>NaN</td>\n",
       "      <td>NaN</td>\n",
       "      <td>NaN</td>\n",
       "      <td>NaN</td>\n",
       "    </tr>\n",
       "    <tr>\n",
       "      <th>5</th>\n",
       "      <td>4cc62765bde8f04db06eb54b</td>\n",
       "      <td>Picnic Cafe</td>\n",
       "      <td>[{'id': '4bf58dd8d48988d10c941735', 'name': 'F...</td>\n",
       "      <td>v-1581896699</td>\n",
       "      <td>False</td>\n",
       "      <td>NaN</td>\n",
       "      <td>40.849447</td>\n",
       "      <td>-73.880012</td>\n",
       "      <td>[{'label': 'display', 'lat': 40.84944735766703...</td>\n",
       "      <td>333</td>\n",
       "      <td>10460</td>\n",
       "      <td>US</td>\n",
       "      <td>Bronx</td>\n",
       "      <td>NY</td>\n",
       "      <td>United States</td>\n",
       "      <td>[Bronx, NY 10460, United States]</td>\n",
       "      <td>NaN</td>\n",
       "      <td>NaN</td>\n",
       "      <td>NaN</td>\n",
       "      <td>NaN</td>\n",
       "      <td>NaN</td>\n",
       "      <td>NaN</td>\n",
       "      <td>NaN</td>\n",
       "      <td>NaN</td>\n",
       "    </tr>\n",
       "    <tr>\n",
       "      <th>6</th>\n",
       "      <td>4d39a9bacc48224b57ae354f</td>\n",
       "      <td>North Star Cafe</td>\n",
       "      <td>[{'id': '4bf58dd8d48988d16d941735', 'name': 'C...</td>\n",
       "      <td>v-1581896699</td>\n",
       "      <td>False</td>\n",
       "      <td>850 E Tremont Ave</td>\n",
       "      <td>40.843336</td>\n",
       "      <td>-73.886982</td>\n",
       "      <td>[{'label': 'display', 'lat': 40.84333558876738...</td>\n",
       "      <td>796</td>\n",
       "      <td>10460</td>\n",
       "      <td>US</td>\n",
       "      <td>Bronx</td>\n",
       "      <td>NY</td>\n",
       "      <td>United States</td>\n",
       "      <td>[850 E Tremont Ave (Corner of Marmion), Bronx,...</td>\n",
       "      <td>Corner of Marmion</td>\n",
       "      <td>298371</td>\n",
       "      <td>https://www.seamless.com/menu/north-star-cafe-...</td>\n",
       "      <td>seamless</td>\n",
       "      <td>https://fastly.4sqi.net/img/general/cap/</td>\n",
       "      <td>[40, 50]</td>\n",
       "      <td>/delivery_provider_seamless_20180129.png</td>\n",
       "      <td>NaN</td>\n",
       "    </tr>\n",
       "    <tr>\n",
       "      <th>7</th>\n",
       "      <td>4fae70c1e4b021a2c00b6b2f</td>\n",
       "      <td>Terrace Cafe</td>\n",
       "      <td>[{'id': '4bf58dd8d48988d16d941735', 'name': 'C...</td>\n",
       "      <td>v-1581896699</td>\n",
       "      <td>False</td>\n",
       "      <td>Bronx Zoo</td>\n",
       "      <td>40.851532</td>\n",
       "      <td>-73.880303</td>\n",
       "      <td>[{'label': 'display', 'lat': 40.85153166966169...</td>\n",
       "      <td>562</td>\n",
       "      <td>10460</td>\n",
       "      <td>US</td>\n",
       "      <td>Bronx</td>\n",
       "      <td>NY</td>\n",
       "      <td>United States</td>\n",
       "      <td>[Bronx Zoo, Bronx, NY 10460, United States]</td>\n",
       "      <td>NaN</td>\n",
       "      <td>NaN</td>\n",
       "      <td>NaN</td>\n",
       "      <td>NaN</td>\n",
       "      <td>NaN</td>\n",
       "      <td>NaN</td>\n",
       "      <td>NaN</td>\n",
       "      <td>NaN</td>\n",
       "    </tr>\n",
       "    <tr>\n",
       "      <th>8</th>\n",
       "      <td>4de194cec65b7a3e2106af4d</td>\n",
       "      <td>Havanna Cafe</td>\n",
       "      <td>[{'id': '4bf58dd8d48988d154941735', 'name': 'C...</td>\n",
       "      <td>v-1581896699</td>\n",
       "      <td>False</td>\n",
       "      <td>NaN</td>\n",
       "      <td>40.839314</td>\n",
       "      <td>-73.882527</td>\n",
       "      <td>[{'label': 'display', 'lat': 40.83931427825235...</td>\n",
       "      <td>881</td>\n",
       "      <td>NaN</td>\n",
       "      <td>US</td>\n",
       "      <td>NaN</td>\n",
       "      <td>New York</td>\n",
       "      <td>United States</td>\n",
       "      <td>[New York, United States]</td>\n",
       "      <td>NaN</td>\n",
       "      <td>NaN</td>\n",
       "      <td>NaN</td>\n",
       "      <td>NaN</td>\n",
       "      <td>NaN</td>\n",
       "      <td>NaN</td>\n",
       "      <td>NaN</td>\n",
       "      <td>NaN</td>\n",
       "    </tr>\n",
       "    <tr>\n",
       "      <th>9</th>\n",
       "      <td>4f326c6319836c91c7d663d8</td>\n",
       "      <td>Cafe Maggiolino</td>\n",
       "      <td>[{'id': '4bf58dd8d48988d1e0931735', 'name': 'C...</td>\n",
       "      <td>v-1581896699</td>\n",
       "      <td>False</td>\n",
       "      <td>2370 Belmont Ave</td>\n",
       "      <td>40.854217</td>\n",
       "      <td>-73.886500</td>\n",
       "      <td>[{'label': 'display', 'lat': 40.854217, 'lng':...</td>\n",
       "      <td>1073</td>\n",
       "      <td>10458</td>\n",
       "      <td>US</td>\n",
       "      <td>Bronx</td>\n",
       "      <td>NY</td>\n",
       "      <td>United States</td>\n",
       "      <td>[2370 Belmont Ave, Bronx, NY 10458, United Sta...</td>\n",
       "      <td>NaN</td>\n",
       "      <td>NaN</td>\n",
       "      <td>NaN</td>\n",
       "      <td>NaN</td>\n",
       "      <td>NaN</td>\n",
       "      <td>NaN</td>\n",
       "      <td>NaN</td>\n",
       "      <td>NaN</td>\n",
       "    </tr>\n",
       "    <tr>\n",
       "      <th>10</th>\n",
       "      <td>4ef56f65a69dea74f915b704</td>\n",
       "      <td>Istanbul Cafe</td>\n",
       "      <td>[{'id': '4bf58dd8d48988d119941735', 'name': 'H...</td>\n",
       "      <td>v-1581896699</td>\n",
       "      <td>False</td>\n",
       "      <td>Rhinelander Ave, Bronx, NY</td>\n",
       "      <td>40.847595</td>\n",
       "      <td>-73.867405</td>\n",
       "      <td>[{'label': 'display', 'lat': 40.847595, 'lng':...</td>\n",
       "      <td>948</td>\n",
       "      <td>10461</td>\n",
       "      <td>US</td>\n",
       "      <td>Bronx</td>\n",
       "      <td>NY</td>\n",
       "      <td>United States</td>\n",
       "      <td>[Rhinelander Ave, Bronx, NY, Bronx, NY 10461, ...</td>\n",
       "      <td>NaN</td>\n",
       "      <td>NaN</td>\n",
       "      <td>NaN</td>\n",
       "      <td>NaN</td>\n",
       "      <td>NaN</td>\n",
       "      <td>NaN</td>\n",
       "      <td>NaN</td>\n",
       "      <td>NaN</td>\n",
       "    </tr>\n",
       "    <tr>\n",
       "      <th>11</th>\n",
       "      <td>4bf033acc601a593b167c3d1</td>\n",
       "      <td>Parisienne Cafe</td>\n",
       "      <td>[{'id': '4bf58dd8d48988d16d941735', 'name': 'C...</td>\n",
       "      <td>v-1581896699</td>\n",
       "      <td>False</td>\n",
       "      <td>Arthur aveue</td>\n",
       "      <td>40.854191</td>\n",
       "      <td>-73.888763</td>\n",
       "      <td>[{'label': 'display', 'lat': 40.85419095132885...</td>\n",
       "      <td>1199</td>\n",
       "      <td>NaN</td>\n",
       "      <td>US</td>\n",
       "      <td>Bronx</td>\n",
       "      <td>NY</td>\n",
       "      <td>United States</td>\n",
       "      <td>[Arthur aveue (187th st), Bronx, NY, United St...</td>\n",
       "      <td>187th st</td>\n",
       "      <td>NaN</td>\n",
       "      <td>NaN</td>\n",
       "      <td>NaN</td>\n",
       "      <td>NaN</td>\n",
       "      <td>NaN</td>\n",
       "      <td>NaN</td>\n",
       "      <td>NaN</td>\n",
       "    </tr>\n",
       "    <tr>\n",
       "      <th>12</th>\n",
       "      <td>4492ad65f964a52075341fe3</td>\n",
       "      <td>Bronx Zoo</td>\n",
       "      <td>[{'id': '4bf58dd8d48988d17b941735', 'name': 'Z...</td>\n",
       "      <td>v-1581896699</td>\n",
       "      <td>False</td>\n",
       "      <td>2300 Southern Blvd</td>\n",
       "      <td>40.853107</td>\n",
       "      <td>-73.878094</td>\n",
       "      <td>[{'label': 'routing', 'lat': 40.84401833985193...</td>\n",
       "      <td>719</td>\n",
       "      <td>10460</td>\n",
       "      <td>US</td>\n",
       "      <td>Bronx</td>\n",
       "      <td>NY</td>\n",
       "      <td>United States</td>\n",
       "      <td>[2300 Southern Blvd (at Boston Rd), Bronx, NY ...</td>\n",
       "      <td>at Boston Rd</td>\n",
       "      <td>NaN</td>\n",
       "      <td>NaN</td>\n",
       "      <td>NaN</td>\n",
       "      <td>NaN</td>\n",
       "      <td>NaN</td>\n",
       "      <td>NaN</td>\n",
       "      <td>35584906</td>\n",
       "    </tr>\n",
       "    <tr>\n",
       "      <th>13</th>\n",
       "      <td>4f323d8619836c91c7c40571</td>\n",
       "      <td>Cafe Lasalle</td>\n",
       "      <td>[{'id': '4bf58dd8d48988d1e0931735', 'name': 'C...</td>\n",
       "      <td>v-1581896699</td>\n",
       "      <td>False</td>\n",
       "      <td>1478 Beach Ave</td>\n",
       "      <td>40.837380</td>\n",
       "      <td>-73.866960</td>\n",
       "      <td>[{'label': 'display', 'lat': 40.83737999999999...</td>\n",
       "      <td>1422</td>\n",
       "      <td>10460</td>\n",
       "      <td>US</td>\n",
       "      <td>Bronx</td>\n",
       "      <td>NY</td>\n",
       "      <td>United States</td>\n",
       "      <td>[1478 Beach Ave, Bronx, NY 10460, United States]</td>\n",
       "      <td>NaN</td>\n",
       "      <td>NaN</td>\n",
       "      <td>NaN</td>\n",
       "      <td>NaN</td>\n",
       "      <td>NaN</td>\n",
       "      <td>NaN</td>\n",
       "      <td>NaN</td>\n",
       "      <td>NaN</td>\n",
       "    </tr>\n",
       "    <tr>\n",
       "      <th>14</th>\n",
       "      <td>4f32562519836c91c7cdbe48</td>\n",
       "      <td>Laonda Cafe</td>\n",
       "      <td>[{'id': '4bf58dd8d48988d1e0931735', 'name': 'C...</td>\n",
       "      <td>v-1581896699</td>\n",
       "      <td>False</td>\n",
       "      <td>2009 White Plains Rd</td>\n",
       "      <td>40.850176</td>\n",
       "      <td>-73.868271</td>\n",
       "      <td>[{'label': 'display', 'lat': 40.850176, 'lng':...</td>\n",
       "      <td>953</td>\n",
       "      <td>NaN</td>\n",
       "      <td>US</td>\n",
       "      <td>Bronx</td>\n",
       "      <td>NY</td>\n",
       "      <td>United States</td>\n",
       "      <td>[2009 White Plains Rd, Bronx, NY, United States]</td>\n",
       "      <td>NaN</td>\n",
       "      <td>NaN</td>\n",
       "      <td>NaN</td>\n",
       "      <td>NaN</td>\n",
       "      <td>NaN</td>\n",
       "      <td>NaN</td>\n",
       "      <td>NaN</td>\n",
       "      <td>NaN</td>\n",
       "    </tr>\n",
       "    <tr>\n",
       "      <th>15</th>\n",
       "      <td>4ebded449a52cce4f2b0e2c4</td>\n",
       "      <td>Jerusalem cafe</td>\n",
       "      <td>[{'id': '4bf58dd8d48988d119941735', 'name': 'H...</td>\n",
       "      <td>v-1581896699</td>\n",
       "      <td>False</td>\n",
       "      <td>NaN</td>\n",
       "      <td>40.847586</td>\n",
       "      <td>-73.866288</td>\n",
       "      <td>[{'label': 'display', 'lat': 40.84758578786568...</td>\n",
       "      <td>1041</td>\n",
       "      <td>10462</td>\n",
       "      <td>US</td>\n",
       "      <td>Bronx</td>\n",
       "      <td>NY</td>\n",
       "      <td>United States</td>\n",
       "      <td>[Bronx, NY 10462, United States]</td>\n",
       "      <td>NaN</td>\n",
       "      <td>NaN</td>\n",
       "      <td>NaN</td>\n",
       "      <td>NaN</td>\n",
       "      <td>NaN</td>\n",
       "      <td>NaN</td>\n",
       "      <td>NaN</td>\n",
       "      <td>NaN</td>\n",
       "    </tr>\n",
       "    <tr>\n",
       "      <th>16</th>\n",
       "      <td>50f8466ae4b0688fecd706d8</td>\n",
       "      <td>Karied Mexican deli cafe</td>\n",
       "      <td>[{'id': '4bf58dd8d48988d1c1941735', 'name': 'M...</td>\n",
       "      <td>v-1581896699</td>\n",
       "      <td>False</td>\n",
       "      <td>634 E 183rd St</td>\n",
       "      <td>40.852555</td>\n",
       "      <td>-73.888023</td>\n",
       "      <td>[{'label': 'display', 'lat': 40.85255499999999...</td>\n",
       "      <td>1030</td>\n",
       "      <td>10458</td>\n",
       "      <td>US</td>\n",
       "      <td>Bronx</td>\n",
       "      <td>NY</td>\n",
       "      <td>United States</td>\n",
       "      <td>[634 E 183rd St, Bronx, NY 10458, United States]</td>\n",
       "      <td>NaN</td>\n",
       "      <td>NaN</td>\n",
       "      <td>NaN</td>\n",
       "      <td>NaN</td>\n",
       "      <td>NaN</td>\n",
       "      <td>NaN</td>\n",
       "      <td>NaN</td>\n",
       "      <td>NaN</td>\n",
       "    </tr>\n",
       "    <tr>\n",
       "      <th>17</th>\n",
       "      <td>5264ce2e11d2d2fd2b3232e4</td>\n",
       "      <td>Sunkofa Cafe &amp; Juice Bar</td>\n",
       "      <td>[]</td>\n",
       "      <td>v-1581896699</td>\n",
       "      <td>False</td>\n",
       "      <td>NaN</td>\n",
       "      <td>40.838080</td>\n",
       "      <td>-73.887523</td>\n",
       "      <td>[{'label': 'display', 'lat': 40.8380801, 'lng'...</td>\n",
       "      <td>1214</td>\n",
       "      <td>NaN</td>\n",
       "      <td>US</td>\n",
       "      <td>Bronx</td>\n",
       "      <td>NY</td>\n",
       "      <td>United States</td>\n",
       "      <td>[Bronx, NY, United States]</td>\n",
       "      <td>NaN</td>\n",
       "      <td>NaN</td>\n",
       "      <td>NaN</td>\n",
       "      <td>NaN</td>\n",
       "      <td>NaN</td>\n",
       "      <td>NaN</td>\n",
       "      <td>NaN</td>\n",
       "      <td>NaN</td>\n",
       "    </tr>\n",
       "  </tbody>\n",
       "</table>\n",
       "</div>"
      ],
      "text/plain": [
       "                          id                        name  \\\n",
       "0   4bb648cef562ef3b3fea2f97  Morrone Pastry Shop & Cafe   \n",
       "1   4c79d294278eb713f6a05580             Cafe al Mercato   \n",
       "2   44941e38f964a52081341fe3          Arthur Avenue Cafe   \n",
       "3   4b8956c2f964a520d62c32e3      The Dancing Crane Cafe   \n",
       "4   4c406ea5520fa5938000c8ac              Wild Asia Cafe   \n",
       "5   4cc62765bde8f04db06eb54b                 Picnic Cafe   \n",
       "6   4d39a9bacc48224b57ae354f             North Star Cafe   \n",
       "7   4fae70c1e4b021a2c00b6b2f                Terrace Cafe   \n",
       "8   4de194cec65b7a3e2106af4d                Havanna Cafe   \n",
       "9   4f326c6319836c91c7d663d8             Cafe Maggiolino   \n",
       "10  4ef56f65a69dea74f915b704               Istanbul Cafe   \n",
       "11  4bf033acc601a593b167c3d1             Parisienne Cafe   \n",
       "12  4492ad65f964a52075341fe3                   Bronx Zoo   \n",
       "13  4f323d8619836c91c7c40571                Cafe Lasalle   \n",
       "14  4f32562519836c91c7cdbe48                 Laonda Cafe   \n",
       "15  4ebded449a52cce4f2b0e2c4              Jerusalem cafe   \n",
       "16  50f8466ae4b0688fecd706d8    Karied Mexican deli cafe   \n",
       "17  5264ce2e11d2d2fd2b3232e4    Sunkofa Cafe & Juice Bar   \n",
       "\n",
       "                                           categories    referralId  hasPerk  \\\n",
       "0   [{'id': '4bf58dd8d48988d1d0941735', 'name': 'D...  v-1581896699    False   \n",
       "1   [{'id': '4bf58dd8d48988d110941735', 'name': 'I...  v-1581896699    False   \n",
       "2   [{'id': '4bf58dd8d48988d110941735', 'name': 'I...  v-1581896699    False   \n",
       "3   [{'id': '4bf58dd8d48988d14e941735', 'name': 'A...  v-1581896699    False   \n",
       "4   [{'id': '4bf58dd8d48988d16e941735', 'name': 'F...  v-1581896699    False   \n",
       "5   [{'id': '4bf58dd8d48988d10c941735', 'name': 'F...  v-1581896699    False   \n",
       "6   [{'id': '4bf58dd8d48988d16d941735', 'name': 'C...  v-1581896699    False   \n",
       "7   [{'id': '4bf58dd8d48988d16d941735', 'name': 'C...  v-1581896699    False   \n",
       "8   [{'id': '4bf58dd8d48988d154941735', 'name': 'C...  v-1581896699    False   \n",
       "9   [{'id': '4bf58dd8d48988d1e0931735', 'name': 'C...  v-1581896699    False   \n",
       "10  [{'id': '4bf58dd8d48988d119941735', 'name': 'H...  v-1581896699    False   \n",
       "11  [{'id': '4bf58dd8d48988d16d941735', 'name': 'C...  v-1581896699    False   \n",
       "12  [{'id': '4bf58dd8d48988d17b941735', 'name': 'Z...  v-1581896699    False   \n",
       "13  [{'id': '4bf58dd8d48988d1e0931735', 'name': 'C...  v-1581896699    False   \n",
       "14  [{'id': '4bf58dd8d48988d1e0931735', 'name': 'C...  v-1581896699    False   \n",
       "15  [{'id': '4bf58dd8d48988d119941735', 'name': 'H...  v-1581896699    False   \n",
       "16  [{'id': '4bf58dd8d48988d1c1941735', 'name': 'M...  v-1581896699    False   \n",
       "17                                                 []  v-1581896699    False   \n",
       "\n",
       "              location.address  location.lat  location.lng  \\\n",
       "0              2349 Arthur Ave     40.854636    -73.888400   \n",
       "1              2344 Arthur Ave     40.854176    -73.888085   \n",
       "2              2329 Arthur Ave     40.854068    -73.888838   \n",
       "3           2300 Southern Blvd     40.849698    -73.880404   \n",
       "4                          NaN     40.845300    -73.877109   \n",
       "5                          NaN     40.849447    -73.880012   \n",
       "6            850 E Tremont Ave     40.843336    -73.886982   \n",
       "7                    Bronx Zoo     40.851532    -73.880303   \n",
       "8                          NaN     40.839314    -73.882527   \n",
       "9             2370 Belmont Ave     40.854217    -73.886500   \n",
       "10  Rhinelander Ave, Bronx, NY     40.847595    -73.867405   \n",
       "11                Arthur aveue     40.854191    -73.888763   \n",
       "12          2300 Southern Blvd     40.853107    -73.878094   \n",
       "13              1478 Beach Ave     40.837380    -73.866960   \n",
       "14        2009 White Plains Rd     40.850176    -73.868271   \n",
       "15                         NaN     40.847586    -73.866288   \n",
       "16              634 E 183rd St     40.852555    -73.888023   \n",
       "17                         NaN     40.838080    -73.887523   \n",
       "\n",
       "                              location.labeledLatLngs  location.distance  \\\n",
       "0   [{'label': 'display', 'lat': 40.85463575037460...               1213   \n",
       "1   [{'label': 'display', 'lat': 40.85417649340613...               1157   \n",
       "2   [{'label': 'display', 'lat': 40.85406831774407...               1194   \n",
       "3   [{'label': 'display', 'lat': 40.84969808989766...                371   \n",
       "4   [{'label': 'display', 'lat': 40.84530017553037...                195   \n",
       "5   [{'label': 'display', 'lat': 40.84944735766703...                333   \n",
       "6   [{'label': 'display', 'lat': 40.84333558876738...                796   \n",
       "7   [{'label': 'display', 'lat': 40.85153166966169...                562   \n",
       "8   [{'label': 'display', 'lat': 40.83931427825235...                881   \n",
       "9   [{'label': 'display', 'lat': 40.854217, 'lng':...               1073   \n",
       "10  [{'label': 'display', 'lat': 40.847595, 'lng':...                948   \n",
       "11  [{'label': 'display', 'lat': 40.85419095132885...               1199   \n",
       "12  [{'label': 'routing', 'lat': 40.84401833985193...                719   \n",
       "13  [{'label': 'display', 'lat': 40.83737999999999...               1422   \n",
       "14  [{'label': 'display', 'lat': 40.850176, 'lng':...                953   \n",
       "15  [{'label': 'display', 'lat': 40.84758578786568...               1041   \n",
       "16  [{'label': 'display', 'lat': 40.85255499999999...               1030   \n",
       "17  [{'label': 'display', 'lat': 40.8380801, 'lng'...               1214   \n",
       "\n",
       "   location.postalCode location.cc location.city location.state  \\\n",
       "0                10458          US         Bronx             NY   \n",
       "1                10458          US         Bronx             NY   \n",
       "2                10458          US         Bronx             NY   \n",
       "3                10460          US         Bronx             NY   \n",
       "4                10460          US         Bronx             NY   \n",
       "5                10460          US         Bronx             NY   \n",
       "6                10460          US         Bronx             NY   \n",
       "7                10460          US         Bronx             NY   \n",
       "8                  NaN          US           NaN       New York   \n",
       "9                10458          US         Bronx             NY   \n",
       "10               10461          US         Bronx             NY   \n",
       "11                 NaN          US         Bronx             NY   \n",
       "12               10460          US         Bronx             NY   \n",
       "13               10460          US         Bronx             NY   \n",
       "14                 NaN          US         Bronx             NY   \n",
       "15               10462          US         Bronx             NY   \n",
       "16               10458          US         Bronx             NY   \n",
       "17                 NaN          US         Bronx             NY   \n",
       "\n",
       "   location.country                          location.formattedAddress  \\\n",
       "0     United States  [2349 Arthur Ave, Bronx, NY 10458, United States]   \n",
       "1     United States  [2344 Arthur Ave, Bronx, NY 10458, United States]   \n",
       "2     United States  [2329 Arthur Ave (Crescent Avenue), Bronx, NY ...   \n",
       "3     United States  [2300 Southern Blvd (Bronx Zoo), Bronx, NY 104...   \n",
       "4     United States                   [Bronx, NY 10460, United States]   \n",
       "5     United States                   [Bronx, NY 10460, United States]   \n",
       "6     United States  [850 E Tremont Ave (Corner of Marmion), Bronx,...   \n",
       "7     United States        [Bronx Zoo, Bronx, NY 10460, United States]   \n",
       "8     United States                          [New York, United States]   \n",
       "9     United States  [2370 Belmont Ave, Bronx, NY 10458, United Sta...   \n",
       "10    United States  [Rhinelander Ave, Bronx, NY, Bronx, NY 10461, ...   \n",
       "11    United States  [Arthur aveue (187th st), Bronx, NY, United St...   \n",
       "12    United States  [2300 Southern Blvd (at Boston Rd), Bronx, NY ...   \n",
       "13    United States   [1478 Beach Ave, Bronx, NY 10460, United States]   \n",
       "14    United States   [2009 White Plains Rd, Bronx, NY, United States]   \n",
       "15    United States                   [Bronx, NY 10462, United States]   \n",
       "16    United States   [634 E 183rd St, Bronx, NY 10458, United States]   \n",
       "17    United States                         [Bronx, NY, United States]   \n",
       "\n",
       "   location.crossStreet delivery.id  \\\n",
       "0                   NaN         NaN   \n",
       "1                   NaN         NaN   \n",
       "2       Crescent Avenue         NaN   \n",
       "3             Bronx Zoo         NaN   \n",
       "4                   NaN         NaN   \n",
       "5                   NaN         NaN   \n",
       "6     Corner of Marmion      298371   \n",
       "7                   NaN         NaN   \n",
       "8                   NaN         NaN   \n",
       "9                   NaN         NaN   \n",
       "10                  NaN         NaN   \n",
       "11             187th st         NaN   \n",
       "12         at Boston Rd         NaN   \n",
       "13                  NaN         NaN   \n",
       "14                  NaN         NaN   \n",
       "15                  NaN         NaN   \n",
       "16                  NaN         NaN   \n",
       "17                  NaN         NaN   \n",
       "\n",
       "                                         delivery.url delivery.provider.name  \\\n",
       "0                                                 NaN                    NaN   \n",
       "1                                                 NaN                    NaN   \n",
       "2                                                 NaN                    NaN   \n",
       "3                                                 NaN                    NaN   \n",
       "4                                                 NaN                    NaN   \n",
       "5                                                 NaN                    NaN   \n",
       "6   https://www.seamless.com/menu/north-star-cafe-...               seamless   \n",
       "7                                                 NaN                    NaN   \n",
       "8                                                 NaN                    NaN   \n",
       "9                                                 NaN                    NaN   \n",
       "10                                                NaN                    NaN   \n",
       "11                                                NaN                    NaN   \n",
       "12                                                NaN                    NaN   \n",
       "13                                                NaN                    NaN   \n",
       "14                                                NaN                    NaN   \n",
       "15                                                NaN                    NaN   \n",
       "16                                                NaN                    NaN   \n",
       "17                                                NaN                    NaN   \n",
       "\n",
       "               delivery.provider.icon.prefix delivery.provider.icon.sizes  \\\n",
       "0                                        NaN                          NaN   \n",
       "1                                        NaN                          NaN   \n",
       "2                                        NaN                          NaN   \n",
       "3                                        NaN                          NaN   \n",
       "4                                        NaN                          NaN   \n",
       "5                                        NaN                          NaN   \n",
       "6   https://fastly.4sqi.net/img/general/cap/                     [40, 50]   \n",
       "7                                        NaN                          NaN   \n",
       "8                                        NaN                          NaN   \n",
       "9                                        NaN                          NaN   \n",
       "10                                       NaN                          NaN   \n",
       "11                                       NaN                          NaN   \n",
       "12                                       NaN                          NaN   \n",
       "13                                       NaN                          NaN   \n",
       "14                                       NaN                          NaN   \n",
       "15                                       NaN                          NaN   \n",
       "16                                       NaN                          NaN   \n",
       "17                                       NaN                          NaN   \n",
       "\n",
       "                 delivery.provider.icon.name venuePage.id  \n",
       "0                                        NaN          NaN  \n",
       "1                                        NaN          NaN  \n",
       "2                                        NaN          NaN  \n",
       "3                                        NaN          NaN  \n",
       "4                                        NaN          NaN  \n",
       "5                                        NaN          NaN  \n",
       "6   /delivery_provider_seamless_20180129.png          NaN  \n",
       "7                                        NaN          NaN  \n",
       "8                                        NaN          NaN  \n",
       "9                                        NaN          NaN  \n",
       "10                                       NaN          NaN  \n",
       "11                                       NaN          NaN  \n",
       "12                                       NaN     35584906  \n",
       "13                                       NaN          NaN  \n",
       "14                                       NaN          NaN  \n",
       "15                                       NaN          NaN  \n",
       "16                                       NaN          NaN  \n",
       "17                                       NaN          NaN  "
      ]
     },
     "execution_count": 43,
     "metadata": {},
     "output_type": "execute_result"
    }
   ],
   "source": [
    "results = requests.get(url).json()\n",
    "results\n",
    "\n",
    "# assign relevant part of JSON to venues\n",
    "venues = results['response']['venues']\n",
    "\n",
    "# tranform venues into a dataframe\n",
    "dataframe = json_normalize(venues)\n",
    "dataframe"
   ]
  },
  {
   "cell_type": "code",
   "execution_count": 47,
   "metadata": {},
   "outputs": [
    {
     "data": {
      "text/html": [
       "<div>\n",
       "<style scoped>\n",
       "    .dataframe tbody tr th:only-of-type {\n",
       "        vertical-align: middle;\n",
       "    }\n",
       "\n",
       "    .dataframe tbody tr th {\n",
       "        vertical-align: top;\n",
       "    }\n",
       "\n",
       "    .dataframe thead th {\n",
       "        text-align: right;\n",
       "    }\n",
       "</style>\n",
       "<table border=\"1\" class=\"dataframe\">\n",
       "  <thead>\n",
       "    <tr style=\"text-align: right;\">\n",
       "      <th></th>\n",
       "      <th>name</th>\n",
       "      <th>categories</th>\n",
       "      <th>address</th>\n",
       "      <th>lat</th>\n",
       "      <th>lng</th>\n",
       "      <th>labeledLatLngs</th>\n",
       "      <th>distance</th>\n",
       "      <th>postalCode</th>\n",
       "      <th>cc</th>\n",
       "      <th>city</th>\n",
       "      <th>state</th>\n",
       "      <th>country</th>\n",
       "      <th>formattedAddress</th>\n",
       "      <th>crossStreet</th>\n",
       "      <th>id</th>\n",
       "    </tr>\n",
       "  </thead>\n",
       "  <tbody>\n",
       "    <tr>\n",
       "      <th>0</th>\n",
       "      <td>Morrone Pastry Shop &amp; Cafe</td>\n",
       "      <td>Dessert Shop</td>\n",
       "      <td>2349 Arthur Ave</td>\n",
       "      <td>40.854636</td>\n",
       "      <td>-73.888400</td>\n",
       "      <td>[{'label': 'display', 'lat': 40.85463575037460...</td>\n",
       "      <td>1213</td>\n",
       "      <td>10458</td>\n",
       "      <td>US</td>\n",
       "      <td>Bronx</td>\n",
       "      <td>NY</td>\n",
       "      <td>United States</td>\n",
       "      <td>[2349 Arthur Ave, Bronx, NY 10458, United States]</td>\n",
       "      <td>NaN</td>\n",
       "      <td>4bb648cef562ef3b3fea2f97</td>\n",
       "    </tr>\n",
       "    <tr>\n",
       "      <th>1</th>\n",
       "      <td>Cafe al Mercato</td>\n",
       "      <td>Italian Restaurant</td>\n",
       "      <td>2344 Arthur Ave</td>\n",
       "      <td>40.854176</td>\n",
       "      <td>-73.888085</td>\n",
       "      <td>[{'label': 'display', 'lat': 40.85417649340613...</td>\n",
       "      <td>1157</td>\n",
       "      <td>10458</td>\n",
       "      <td>US</td>\n",
       "      <td>Bronx</td>\n",
       "      <td>NY</td>\n",
       "      <td>United States</td>\n",
       "      <td>[2344 Arthur Ave, Bronx, NY 10458, United States]</td>\n",
       "      <td>NaN</td>\n",
       "      <td>4c79d294278eb713f6a05580</td>\n",
       "    </tr>\n",
       "    <tr>\n",
       "      <th>2</th>\n",
       "      <td>Arthur Avenue Cafe</td>\n",
       "      <td>Italian Restaurant</td>\n",
       "      <td>2329 Arthur Ave</td>\n",
       "      <td>40.854068</td>\n",
       "      <td>-73.888838</td>\n",
       "      <td>[{'label': 'display', 'lat': 40.85406831774407...</td>\n",
       "      <td>1194</td>\n",
       "      <td>10458</td>\n",
       "      <td>US</td>\n",
       "      <td>Bronx</td>\n",
       "      <td>NY</td>\n",
       "      <td>United States</td>\n",
       "      <td>[2329 Arthur Ave (Crescent Avenue), Bronx, NY ...</td>\n",
       "      <td>Crescent Avenue</td>\n",
       "      <td>44941e38f964a52081341fe3</td>\n",
       "    </tr>\n",
       "    <tr>\n",
       "      <th>3</th>\n",
       "      <td>The Dancing Crane Cafe</td>\n",
       "      <td>American Restaurant</td>\n",
       "      <td>2300 Southern Blvd</td>\n",
       "      <td>40.849698</td>\n",
       "      <td>-73.880404</td>\n",
       "      <td>[{'label': 'display', 'lat': 40.84969808989766...</td>\n",
       "      <td>371</td>\n",
       "      <td>10460</td>\n",
       "      <td>US</td>\n",
       "      <td>Bronx</td>\n",
       "      <td>NY</td>\n",
       "      <td>United States</td>\n",
       "      <td>[2300 Southern Blvd (Bronx Zoo), Bronx, NY 104...</td>\n",
       "      <td>Bronx Zoo</td>\n",
       "      <td>4b8956c2f964a520d62c32e3</td>\n",
       "    </tr>\n",
       "    <tr>\n",
       "      <th>4</th>\n",
       "      <td>Wild Asia Cafe</td>\n",
       "      <td>Fast Food Restaurant</td>\n",
       "      <td>NaN</td>\n",
       "      <td>40.845300</td>\n",
       "      <td>-73.877109</td>\n",
       "      <td>[{'label': 'display', 'lat': 40.84530017553037...</td>\n",
       "      <td>195</td>\n",
       "      <td>10460</td>\n",
       "      <td>US</td>\n",
       "      <td>Bronx</td>\n",
       "      <td>NY</td>\n",
       "      <td>United States</td>\n",
       "      <td>[Bronx, NY 10460, United States]</td>\n",
       "      <td>NaN</td>\n",
       "      <td>4c406ea5520fa5938000c8ac</td>\n",
       "    </tr>\n",
       "    <tr>\n",
       "      <th>5</th>\n",
       "      <td>Picnic Cafe</td>\n",
       "      <td>French Restaurant</td>\n",
       "      <td>NaN</td>\n",
       "      <td>40.849447</td>\n",
       "      <td>-73.880012</td>\n",
       "      <td>[{'label': 'display', 'lat': 40.84944735766703...</td>\n",
       "      <td>333</td>\n",
       "      <td>10460</td>\n",
       "      <td>US</td>\n",
       "      <td>Bronx</td>\n",
       "      <td>NY</td>\n",
       "      <td>United States</td>\n",
       "      <td>[Bronx, NY 10460, United States]</td>\n",
       "      <td>NaN</td>\n",
       "      <td>4cc62765bde8f04db06eb54b</td>\n",
       "    </tr>\n",
       "    <tr>\n",
       "      <th>6</th>\n",
       "      <td>North Star Cafe</td>\n",
       "      <td>Café</td>\n",
       "      <td>850 E Tremont Ave</td>\n",
       "      <td>40.843336</td>\n",
       "      <td>-73.886982</td>\n",
       "      <td>[{'label': 'display', 'lat': 40.84333558876738...</td>\n",
       "      <td>796</td>\n",
       "      <td>10460</td>\n",
       "      <td>US</td>\n",
       "      <td>Bronx</td>\n",
       "      <td>NY</td>\n",
       "      <td>United States</td>\n",
       "      <td>[850 E Tremont Ave (Corner of Marmion), Bronx,...</td>\n",
       "      <td>Corner of Marmion</td>\n",
       "      <td>4d39a9bacc48224b57ae354f</td>\n",
       "    </tr>\n",
       "    <tr>\n",
       "      <th>7</th>\n",
       "      <td>Terrace Cafe</td>\n",
       "      <td>Café</td>\n",
       "      <td>Bronx Zoo</td>\n",
       "      <td>40.851532</td>\n",
       "      <td>-73.880303</td>\n",
       "      <td>[{'label': 'display', 'lat': 40.85153166966169...</td>\n",
       "      <td>562</td>\n",
       "      <td>10460</td>\n",
       "      <td>US</td>\n",
       "      <td>Bronx</td>\n",
       "      <td>NY</td>\n",
       "      <td>United States</td>\n",
       "      <td>[Bronx Zoo, Bronx, NY 10460, United States]</td>\n",
       "      <td>NaN</td>\n",
       "      <td>4fae70c1e4b021a2c00b6b2f</td>\n",
       "    </tr>\n",
       "    <tr>\n",
       "      <th>8</th>\n",
       "      <td>Havanna Cafe</td>\n",
       "      <td>Cuban Restaurant</td>\n",
       "      <td>NaN</td>\n",
       "      <td>40.839314</td>\n",
       "      <td>-73.882527</td>\n",
       "      <td>[{'label': 'display', 'lat': 40.83931427825235...</td>\n",
       "      <td>881</td>\n",
       "      <td>NaN</td>\n",
       "      <td>US</td>\n",
       "      <td>NaN</td>\n",
       "      <td>New York</td>\n",
       "      <td>United States</td>\n",
       "      <td>[New York, United States]</td>\n",
       "      <td>NaN</td>\n",
       "      <td>4de194cec65b7a3e2106af4d</td>\n",
       "    </tr>\n",
       "    <tr>\n",
       "      <th>9</th>\n",
       "      <td>Cafe Maggiolino</td>\n",
       "      <td>Coffee Shop</td>\n",
       "      <td>2370 Belmont Ave</td>\n",
       "      <td>40.854217</td>\n",
       "      <td>-73.886500</td>\n",
       "      <td>[{'label': 'display', 'lat': 40.854217, 'lng':...</td>\n",
       "      <td>1073</td>\n",
       "      <td>10458</td>\n",
       "      <td>US</td>\n",
       "      <td>Bronx</td>\n",
       "      <td>NY</td>\n",
       "      <td>United States</td>\n",
       "      <td>[2370 Belmont Ave, Bronx, NY 10458, United Sta...</td>\n",
       "      <td>NaN</td>\n",
       "      <td>4f326c6319836c91c7d663d8</td>\n",
       "    </tr>\n",
       "    <tr>\n",
       "      <th>10</th>\n",
       "      <td>Istanbul Cafe</td>\n",
       "      <td>Hookah Bar</td>\n",
       "      <td>Rhinelander Ave, Bronx, NY</td>\n",
       "      <td>40.847595</td>\n",
       "      <td>-73.867405</td>\n",
       "      <td>[{'label': 'display', 'lat': 40.847595, 'lng':...</td>\n",
       "      <td>948</td>\n",
       "      <td>10461</td>\n",
       "      <td>US</td>\n",
       "      <td>Bronx</td>\n",
       "      <td>NY</td>\n",
       "      <td>United States</td>\n",
       "      <td>[Rhinelander Ave, Bronx, NY, Bronx, NY 10461, ...</td>\n",
       "      <td>NaN</td>\n",
       "      <td>4ef56f65a69dea74f915b704</td>\n",
       "    </tr>\n",
       "    <tr>\n",
       "      <th>11</th>\n",
       "      <td>Parisienne Cafe</td>\n",
       "      <td>Café</td>\n",
       "      <td>Arthur aveue</td>\n",
       "      <td>40.854191</td>\n",
       "      <td>-73.888763</td>\n",
       "      <td>[{'label': 'display', 'lat': 40.85419095132885...</td>\n",
       "      <td>1199</td>\n",
       "      <td>NaN</td>\n",
       "      <td>US</td>\n",
       "      <td>Bronx</td>\n",
       "      <td>NY</td>\n",
       "      <td>United States</td>\n",
       "      <td>[Arthur aveue (187th st), Bronx, NY, United St...</td>\n",
       "      <td>187th st</td>\n",
       "      <td>4bf033acc601a593b167c3d1</td>\n",
       "    </tr>\n",
       "    <tr>\n",
       "      <th>12</th>\n",
       "      <td>Bronx Zoo</td>\n",
       "      <td>Zoo</td>\n",
       "      <td>2300 Southern Blvd</td>\n",
       "      <td>40.853107</td>\n",
       "      <td>-73.878094</td>\n",
       "      <td>[{'label': 'routing', 'lat': 40.84401833985193...</td>\n",
       "      <td>719</td>\n",
       "      <td>10460</td>\n",
       "      <td>US</td>\n",
       "      <td>Bronx</td>\n",
       "      <td>NY</td>\n",
       "      <td>United States</td>\n",
       "      <td>[2300 Southern Blvd (at Boston Rd), Bronx, NY ...</td>\n",
       "      <td>at Boston Rd</td>\n",
       "      <td>4492ad65f964a52075341fe3</td>\n",
       "    </tr>\n",
       "    <tr>\n",
       "      <th>13</th>\n",
       "      <td>Cafe Lasalle</td>\n",
       "      <td>Coffee Shop</td>\n",
       "      <td>1478 Beach Ave</td>\n",
       "      <td>40.837380</td>\n",
       "      <td>-73.866960</td>\n",
       "      <td>[{'label': 'display', 'lat': 40.83737999999999...</td>\n",
       "      <td>1422</td>\n",
       "      <td>10460</td>\n",
       "      <td>US</td>\n",
       "      <td>Bronx</td>\n",
       "      <td>NY</td>\n",
       "      <td>United States</td>\n",
       "      <td>[1478 Beach Ave, Bronx, NY 10460, United States]</td>\n",
       "      <td>NaN</td>\n",
       "      <td>4f323d8619836c91c7c40571</td>\n",
       "    </tr>\n",
       "    <tr>\n",
       "      <th>14</th>\n",
       "      <td>Laonda Cafe</td>\n",
       "      <td>Coffee Shop</td>\n",
       "      <td>2009 White Plains Rd</td>\n",
       "      <td>40.850176</td>\n",
       "      <td>-73.868271</td>\n",
       "      <td>[{'label': 'display', 'lat': 40.850176, 'lng':...</td>\n",
       "      <td>953</td>\n",
       "      <td>NaN</td>\n",
       "      <td>US</td>\n",
       "      <td>Bronx</td>\n",
       "      <td>NY</td>\n",
       "      <td>United States</td>\n",
       "      <td>[2009 White Plains Rd, Bronx, NY, United States]</td>\n",
       "      <td>NaN</td>\n",
       "      <td>4f32562519836c91c7cdbe48</td>\n",
       "    </tr>\n",
       "    <tr>\n",
       "      <th>15</th>\n",
       "      <td>Jerusalem cafe</td>\n",
       "      <td>Hookah Bar</td>\n",
       "      <td>NaN</td>\n",
       "      <td>40.847586</td>\n",
       "      <td>-73.866288</td>\n",
       "      <td>[{'label': 'display', 'lat': 40.84758578786568...</td>\n",
       "      <td>1041</td>\n",
       "      <td>10462</td>\n",
       "      <td>US</td>\n",
       "      <td>Bronx</td>\n",
       "      <td>NY</td>\n",
       "      <td>United States</td>\n",
       "      <td>[Bronx, NY 10462, United States]</td>\n",
       "      <td>NaN</td>\n",
       "      <td>4ebded449a52cce4f2b0e2c4</td>\n",
       "    </tr>\n",
       "    <tr>\n",
       "      <th>16</th>\n",
       "      <td>Karied Mexican deli cafe</td>\n",
       "      <td>Mexican Restaurant</td>\n",
       "      <td>634 E 183rd St</td>\n",
       "      <td>40.852555</td>\n",
       "      <td>-73.888023</td>\n",
       "      <td>[{'label': 'display', 'lat': 40.85255499999999...</td>\n",
       "      <td>1030</td>\n",
       "      <td>10458</td>\n",
       "      <td>US</td>\n",
       "      <td>Bronx</td>\n",
       "      <td>NY</td>\n",
       "      <td>United States</td>\n",
       "      <td>[634 E 183rd St, Bronx, NY 10458, United States]</td>\n",
       "      <td>NaN</td>\n",
       "      <td>50f8466ae4b0688fecd706d8</td>\n",
       "    </tr>\n",
       "    <tr>\n",
       "      <th>17</th>\n",
       "      <td>Sunkofa Cafe &amp; Juice Bar</td>\n",
       "      <td>None</td>\n",
       "      <td>NaN</td>\n",
       "      <td>40.838080</td>\n",
       "      <td>-73.887523</td>\n",
       "      <td>[{'label': 'display', 'lat': 40.8380801, 'lng'...</td>\n",
       "      <td>1214</td>\n",
       "      <td>NaN</td>\n",
       "      <td>US</td>\n",
       "      <td>Bronx</td>\n",
       "      <td>NY</td>\n",
       "      <td>United States</td>\n",
       "      <td>[Bronx, NY, United States]</td>\n",
       "      <td>NaN</td>\n",
       "      <td>5264ce2e11d2d2fd2b3232e4</td>\n",
       "    </tr>\n",
       "  </tbody>\n",
       "</table>\n",
       "</div>"
      ],
      "text/plain": [
       "                          name            categories  \\\n",
       "0   Morrone Pastry Shop & Cafe          Dessert Shop   \n",
       "1              Cafe al Mercato    Italian Restaurant   \n",
       "2           Arthur Avenue Cafe    Italian Restaurant   \n",
       "3       The Dancing Crane Cafe   American Restaurant   \n",
       "4               Wild Asia Cafe  Fast Food Restaurant   \n",
       "5                  Picnic Cafe     French Restaurant   \n",
       "6              North Star Cafe                  Café   \n",
       "7                 Terrace Cafe                  Café   \n",
       "8                 Havanna Cafe      Cuban Restaurant   \n",
       "9              Cafe Maggiolino           Coffee Shop   \n",
       "10               Istanbul Cafe            Hookah Bar   \n",
       "11             Parisienne Cafe                  Café   \n",
       "12                   Bronx Zoo                   Zoo   \n",
       "13                Cafe Lasalle           Coffee Shop   \n",
       "14                 Laonda Cafe           Coffee Shop   \n",
       "15              Jerusalem cafe            Hookah Bar   \n",
       "16    Karied Mexican deli cafe    Mexican Restaurant   \n",
       "17    Sunkofa Cafe & Juice Bar                  None   \n",
       "\n",
       "                       address        lat        lng  \\\n",
       "0              2349 Arthur Ave  40.854636 -73.888400   \n",
       "1              2344 Arthur Ave  40.854176 -73.888085   \n",
       "2              2329 Arthur Ave  40.854068 -73.888838   \n",
       "3           2300 Southern Blvd  40.849698 -73.880404   \n",
       "4                          NaN  40.845300 -73.877109   \n",
       "5                          NaN  40.849447 -73.880012   \n",
       "6            850 E Tremont Ave  40.843336 -73.886982   \n",
       "7                    Bronx Zoo  40.851532 -73.880303   \n",
       "8                          NaN  40.839314 -73.882527   \n",
       "9             2370 Belmont Ave  40.854217 -73.886500   \n",
       "10  Rhinelander Ave, Bronx, NY  40.847595 -73.867405   \n",
       "11                Arthur aveue  40.854191 -73.888763   \n",
       "12          2300 Southern Blvd  40.853107 -73.878094   \n",
       "13              1478 Beach Ave  40.837380 -73.866960   \n",
       "14        2009 White Plains Rd  40.850176 -73.868271   \n",
       "15                         NaN  40.847586 -73.866288   \n",
       "16              634 E 183rd St  40.852555 -73.888023   \n",
       "17                         NaN  40.838080 -73.887523   \n",
       "\n",
       "                                       labeledLatLngs  distance postalCode  \\\n",
       "0   [{'label': 'display', 'lat': 40.85463575037460...      1213      10458   \n",
       "1   [{'label': 'display', 'lat': 40.85417649340613...      1157      10458   \n",
       "2   [{'label': 'display', 'lat': 40.85406831774407...      1194      10458   \n",
       "3   [{'label': 'display', 'lat': 40.84969808989766...       371      10460   \n",
       "4   [{'label': 'display', 'lat': 40.84530017553037...       195      10460   \n",
       "5   [{'label': 'display', 'lat': 40.84944735766703...       333      10460   \n",
       "6   [{'label': 'display', 'lat': 40.84333558876738...       796      10460   \n",
       "7   [{'label': 'display', 'lat': 40.85153166966169...       562      10460   \n",
       "8   [{'label': 'display', 'lat': 40.83931427825235...       881        NaN   \n",
       "9   [{'label': 'display', 'lat': 40.854217, 'lng':...      1073      10458   \n",
       "10  [{'label': 'display', 'lat': 40.847595, 'lng':...       948      10461   \n",
       "11  [{'label': 'display', 'lat': 40.85419095132885...      1199        NaN   \n",
       "12  [{'label': 'routing', 'lat': 40.84401833985193...       719      10460   \n",
       "13  [{'label': 'display', 'lat': 40.83737999999999...      1422      10460   \n",
       "14  [{'label': 'display', 'lat': 40.850176, 'lng':...       953        NaN   \n",
       "15  [{'label': 'display', 'lat': 40.84758578786568...      1041      10462   \n",
       "16  [{'label': 'display', 'lat': 40.85255499999999...      1030      10458   \n",
       "17  [{'label': 'display', 'lat': 40.8380801, 'lng'...      1214        NaN   \n",
       "\n",
       "    cc   city     state        country  \\\n",
       "0   US  Bronx        NY  United States   \n",
       "1   US  Bronx        NY  United States   \n",
       "2   US  Bronx        NY  United States   \n",
       "3   US  Bronx        NY  United States   \n",
       "4   US  Bronx        NY  United States   \n",
       "5   US  Bronx        NY  United States   \n",
       "6   US  Bronx        NY  United States   \n",
       "7   US  Bronx        NY  United States   \n",
       "8   US    NaN  New York  United States   \n",
       "9   US  Bronx        NY  United States   \n",
       "10  US  Bronx        NY  United States   \n",
       "11  US  Bronx        NY  United States   \n",
       "12  US  Bronx        NY  United States   \n",
       "13  US  Bronx        NY  United States   \n",
       "14  US  Bronx        NY  United States   \n",
       "15  US  Bronx        NY  United States   \n",
       "16  US  Bronx        NY  United States   \n",
       "17  US  Bronx        NY  United States   \n",
       "\n",
       "                                     formattedAddress        crossStreet  \\\n",
       "0   [2349 Arthur Ave, Bronx, NY 10458, United States]                NaN   \n",
       "1   [2344 Arthur Ave, Bronx, NY 10458, United States]                NaN   \n",
       "2   [2329 Arthur Ave (Crescent Avenue), Bronx, NY ...    Crescent Avenue   \n",
       "3   [2300 Southern Blvd (Bronx Zoo), Bronx, NY 104...          Bronx Zoo   \n",
       "4                    [Bronx, NY 10460, United States]                NaN   \n",
       "5                    [Bronx, NY 10460, United States]                NaN   \n",
       "6   [850 E Tremont Ave (Corner of Marmion), Bronx,...  Corner of Marmion   \n",
       "7         [Bronx Zoo, Bronx, NY 10460, United States]                NaN   \n",
       "8                           [New York, United States]                NaN   \n",
       "9   [2370 Belmont Ave, Bronx, NY 10458, United Sta...                NaN   \n",
       "10  [Rhinelander Ave, Bronx, NY, Bronx, NY 10461, ...                NaN   \n",
       "11  [Arthur aveue (187th st), Bronx, NY, United St...           187th st   \n",
       "12  [2300 Southern Blvd (at Boston Rd), Bronx, NY ...       at Boston Rd   \n",
       "13   [1478 Beach Ave, Bronx, NY 10460, United States]                NaN   \n",
       "14   [2009 White Plains Rd, Bronx, NY, United States]                NaN   \n",
       "15                   [Bronx, NY 10462, United States]                NaN   \n",
       "16   [634 E 183rd St, Bronx, NY 10458, United States]                NaN   \n",
       "17                         [Bronx, NY, United States]                NaN   \n",
       "\n",
       "                          id  \n",
       "0   4bb648cef562ef3b3fea2f97  \n",
       "1   4c79d294278eb713f6a05580  \n",
       "2   44941e38f964a52081341fe3  \n",
       "3   4b8956c2f964a520d62c32e3  \n",
       "4   4c406ea5520fa5938000c8ac  \n",
       "5   4cc62765bde8f04db06eb54b  \n",
       "6   4d39a9bacc48224b57ae354f  \n",
       "7   4fae70c1e4b021a2c00b6b2f  \n",
       "8   4de194cec65b7a3e2106af4d  \n",
       "9   4f326c6319836c91c7d663d8  \n",
       "10  4ef56f65a69dea74f915b704  \n",
       "11  4bf033acc601a593b167c3d1  \n",
       "12  4492ad65f964a52075341fe3  \n",
       "13  4f323d8619836c91c7c40571  \n",
       "14  4f32562519836c91c7cdbe48  \n",
       "15  4ebded449a52cce4f2b0e2c4  \n",
       "16  50f8466ae4b0688fecd706d8  \n",
       "17  5264ce2e11d2d2fd2b3232e4  "
      ]
     },
     "execution_count": 47,
     "metadata": {},
     "output_type": "execute_result"
    }
   ],
   "source": [
    "# keep only columns that include venue name, and anything that is associated with location\n",
    "filtered_columns = ['name', 'categories'] + [col for col in dataframe.columns if col.startswith('location.')] + ['id']\n",
    "dataframe_filtered = dataframe.loc[:, filtered_columns]\n",
    "\n",
    "# function that extracts the category of the venue\n",
    "def get_category_type(row):\n",
    "    try:\n",
    "        categories_list = row['categories']\n",
    "    except:\n",
    "        categories_list = row['venue.categories']\n",
    "        \n",
    "    if len(categories_list) == 0:\n",
    "        return None\n",
    "    else:\n",
    "        return categories_list[0]['name']\n",
    "\n",
    "# filter the category for each row\n",
    "dataframe_filtered['categories'] = dataframe_filtered.apply(get_category_type, axis=1)\n",
    "\n",
    "# clean column names by keeping only last term\n",
    "dataframe_filtered.columns = [column.split('.')[-1] for column in dataframe_filtered.columns]\n",
    "\n",
    "dataframe_filtered"
   ]
  },
  {
   "cell_type": "code",
   "execution_count": 45,
   "metadata": {},
   "outputs": [
    {
     "data": {
      "text/html": [
       "<div style=\"width:100%;\"><div style=\"position:relative;width:100%;height:0;padding-bottom:60%;\"><iframe src=\"data:text/html;charset=utf-8;base64,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\" style=\"position:absolute;width:100%;height:100%;left:0;top:0;border:none !important;\" allowfullscreen webkitallowfullscreen mozallowfullscreen></iframe></div></div>"
      ],
      "text/plain": [
       "<folium.folium.Map at 0x7f6a029cb6d8>"
      ]
     },
     "execution_count": 45,
     "metadata": {},
     "output_type": "execute_result"
    }
   ],
   "source": [
    "dataframe_filtered.name\n",
    "\n",
    "venues_map = folium.Map(location=[latitude, longitude], zoom_start=13) # generate map centred around the Conrad Hotel\n",
    "\n",
    "# add a red circle marker to represent the Conrad Hotel\n",
    "folium.features.CircleMarker(\n",
    "    [latitude, longitude],\n",
    "    radius=10,\n",
    "    color='red',\n",
    "    popup='Cafe al Mercato',\n",
    "    fill = True,\n",
    "    fill_color = 'red',\n",
    "    fill_opacity = 0.6\n",
    ").add_to(venues_map)\n",
    "\n",
    "# add the Italian restaurants as blue circle markers\n",
    "for lat, lng, label in zip(dataframe_filtered.lat, dataframe_filtered.lng, dataframe_filtered.categories):\n",
    "    folium.features.CircleMarker(\n",
    "        [lat, lng],\n",
    "        radius=5,\n",
    "        color='blue',\n",
    "        popup=label,\n",
    "        fill = True,\n",
    "        fill_color='blue',\n",
    "        fill_opacity=0.6\n",
    "    ).add_to(venues_map)\n",
    "\n",
    "# display map\n",
    "venues_map"
   ]
  },
  {
   "cell_type": "code",
   "execution_count": 49,
   "metadata": {},
   "outputs": [],
   "source": [
    "export_csv = dataframe_filtered.to_csv(r'C:\\Users\\Barry\\Desktop\\projects\\Coursera_Capstone\\export_dataframe.csv', index = None, header=True)"
   ]
  },
  {
   "cell_type": "code",
   "execution_count": 50,
   "metadata": {},
   "outputs": [
    {
     "data": {
      "text/plain": [
       "'https://api.foursquare.com/v2/venues/4c79d294278eb713f6a05580?client_id=XWWKC4DCATGXLDLXCE2F3UATKKBSNBGEF2D4CCXWK1CRJDDH&client_secret=XXI0QDDDFEU3AKQLM1NKABJ5BDV04VJJC5CCZDVHN0E1UECM&v=20200217'"
      ]
     },
     "execution_count": 50,
     "metadata": {},
     "output_type": "execute_result"
    }
   ],
   "source": [
    "venue_id = '4c79d294278eb713f6a05580' # ID of Harry's Italian Pizza Bar\n",
    "url = 'https://api.foursquare.com/v2/venues/{}?client_id={}&client_secret={}&v={}'.format(venue_id, CLIENT_ID, CLIENT_SECRET, VERSION)\n",
    "url"
   ]
  },
  {
   "cell_type": "code",
   "execution_count": 51,
   "metadata": {},
   "outputs": [
    {
     "name": "stdout",
     "output_type": "stream",
     "text": [
      "dict_keys(['id', 'name', 'contact', 'location', 'canonicalUrl', 'categories', 'verified', 'stats', 'price', 'likes', 'dislike', 'ok', 'rating', 'ratingColor', 'ratingSignals', 'allowMenuUrlEdit', 'beenHere', 'specials', 'photos', 'reasons', 'hereNow', 'createdAt', 'tips', 'shortUrl', 'timeZone', 'listed', 'hours', 'popular', 'pageUpdates', 'inbox', 'parent', 'hierarchy', 'attributes', 'bestPhoto', 'colors'])\n"
     ]
    },
    {
     "data": {
      "text/plain": [
       "{'id': '4c79d294278eb713f6a05580',\n",
       " 'name': 'Cafe al Mercato',\n",
       " 'contact': {'phone': '7183647681', 'formattedPhone': '(718) 364-7681'},\n",
       " 'location': {'address': '2344 Arthur Ave',\n",
       "  'lat': 40.85417649340613,\n",
       "  'lng': -73.88808455700543,\n",
       "  'labeledLatLngs': [{'label': 'display',\n",
       "    'lat': 40.85417649340613,\n",
       "    'lng': -73.88808455700543}],\n",
       "  'postalCode': '10458',\n",
       "  'cc': 'US',\n",
       "  'city': 'Bronx',\n",
       "  'state': 'NY',\n",
       "  'country': 'United States',\n",
       "  'formattedAddress': ['2344 Arthur Ave', 'Bronx, NY 10458', 'United States']},\n",
       " 'canonicalUrl': 'https://foursquare.com/v/cafe-al-mercato/4c79d294278eb713f6a05580',\n",
       " 'categories': [{'id': '4bf58dd8d48988d110941735',\n",
       "   'name': 'Italian Restaurant',\n",
       "   'pluralName': 'Italian Restaurants',\n",
       "   'shortName': 'Italian',\n",
       "   'icon': {'prefix': 'https://ss3.4sqi.net/img/categories_v2/food/italian_',\n",
       "    'suffix': '.png'},\n",
       "   'primary': True}],\n",
       " 'verified': False,\n",
       " 'stats': {'tipCount': 5},\n",
       " 'price': {'tier': 2, 'message': 'Moderate', 'currency': '$'},\n",
       " 'likes': {'count': 10,\n",
       "  'groups': [{'type': 'others', 'count': 10, 'items': []}],\n",
       "  'summary': '10 Likes'},\n",
       " 'dislike': False,\n",
       " 'ok': False,\n",
       " 'rating': 8.1,\n",
       " 'ratingColor': '73CF42',\n",
       " 'ratingSignals': 13,\n",
       " 'allowMenuUrlEdit': True,\n",
       " 'beenHere': {'count': 0,\n",
       "  'unconfirmedCount': 0,\n",
       "  'marked': False,\n",
       "  'lastCheckinExpiredAt': 0},\n",
       " 'specials': {'count': 0, 'items': []},\n",
       " 'photos': {'count': 5,\n",
       "  'groups': [{'type': 'venue',\n",
       "    'name': 'Venue photos',\n",
       "    'count': 5,\n",
       "    'items': [{'id': '59a84d5e61f070506c468817',\n",
       "      'createdAt': 1504202078,\n",
       "      'source': {'name': 'Swarm for iOS', 'url': 'https://www.swarmapp.com'},\n",
       "      'prefix': 'https://fastly.4sqi.net/img/general/',\n",
       "      'suffix': '/1174124_AG0XfQOljXw1Dkt04hS_XtWcFjDJN6fK6y3VgeB5pqE.jpg',\n",
       "      'width': 1440,\n",
       "      'height': 1920,\n",
       "      'user': {'id': '1174124',\n",
       "       'firstName': 'steve',\n",
       "       'lastName': 'h',\n",
       "       'photo': {'prefix': 'https://fastly.4sqi.net/img/user/',\n",
       "        'suffix': '/Z1WKG2CYGWR5HMQL.jpg'}},\n",
       "      'visibility': 'public'},\n",
       "     {'id': '581b69401632354fab7cde99',\n",
       "      'createdAt': 1478191424,\n",
       "      'source': {'name': 'Swarm for iOS', 'url': 'https://www.swarmapp.com'},\n",
       "      'prefix': 'https://fastly.4sqi.net/img/general/',\n",
       "      'suffix': '/3926125_MB3fhgUWrKExjjpxZYLs4sESkN8B5y4qihYaE8lFJ1M.jpg',\n",
       "      'width': 1920,\n",
       "      'height': 1440,\n",
       "      'user': {'id': '3926125',\n",
       "       'firstName': 'Carlos',\n",
       "       'lastName': 'V',\n",
       "       'photo': {'prefix': 'https://fastly.4sqi.net/img/user/',\n",
       "        'suffix': '/3926125-PMXJSR4HXMU5331L.jpg'}},\n",
       "      'visibility': 'public'}]}]},\n",
       " 'reasons': {'count': 0, 'items': []},\n",
       " 'hereNow': {'count': 0, 'summary': 'Nobody here', 'groups': []},\n",
       " 'createdAt': 1283052180,\n",
       " 'tips': {'count': 5,\n",
       "  'groups': [{'type': 'others',\n",
       "    'name': 'All tips',\n",
       "    'count': 5,\n",
       "    'items': [{'id': '5bb3ee447564f7002cb9e605',\n",
       "      'createdAt': 1538518596,\n",
       "      'text': 'The best square pizza. Get the plain. Keep it simple.',\n",
       "      'type': 'user',\n",
       "      'canonicalUrl': 'https://foursquare.com/item/5bb3ee447564f7002cb9e605',\n",
       "      'lang': 'en',\n",
       "      'likes': {'count': 0, 'groups': []},\n",
       "      'logView': True,\n",
       "      'agreeCount': 0,\n",
       "      'disagreeCount': 0,\n",
       "      'todo': {'count': 0},\n",
       "      'user': {'id': '500648440',\n",
       "       'firstName': 'Ashley',\n",
       "       'lastName': 'N',\n",
       "       'photo': {'prefix': 'https://fastly.4sqi.net/img/user/',\n",
       "        'suffix': '/500648440_vUCcgNON_dDRpsoe5wfsKasWgdCYmIQdTdqAFG9UvJwC0DKY56psdb2yt3O9KXsEwzlAgj4vH.jpg'}},\n",
       "      'authorInteractionType': 'liked'},\n",
       "     {'id': '5bb3ee17d69ed0002c704af6',\n",
       "      'createdAt': 1538518551,\n",
       "      'text': 'The best square I’ve ever had. It’s life-changing.',\n",
       "      'type': 'user',\n",
       "      'canonicalUrl': 'https://foursquare.com/item/5bb3ee17d69ed0002c704af6',\n",
       "      'lang': 'en',\n",
       "      'likes': {'count': 0, 'groups': []},\n",
       "      'logView': True,\n",
       "      'agreeCount': 0,\n",
       "      'disagreeCount': 0,\n",
       "      'todo': {'count': 0},\n",
       "      'user': {'id': '500648440',\n",
       "       'firstName': 'Ashley',\n",
       "       'lastName': 'N',\n",
       "       'photo': {'prefix': 'https://fastly.4sqi.net/img/user/',\n",
       "        'suffix': '/500648440_vUCcgNON_dDRpsoe5wfsKasWgdCYmIQdTdqAFG9UvJwC0DKY56psdb2yt3O9KXsEwzlAgj4vH.jpg'}},\n",
       "      'authorInteractionType': 'liked'}]}]},\n",
       " 'shortUrl': 'http://4sq.com/bFpNJM',\n",
       " 'timeZone': 'America/New_York',\n",
       " 'listed': {'count': 32,\n",
       "  'groups': [{'type': 'others',\n",
       "    'name': 'Lists from other people',\n",
       "    'count': 32,\n",
       "    'items': [{'id': '59fc67e618d43b37d362b10b',\n",
       "      'name': 'NYC',\n",
       "      'description': '',\n",
       "      'type': 'others',\n",
       "      'user': {'id': '81343017',\n",
       "       'firstName': 'Eline',\n",
       "       'lastName': 'V',\n",
       "       'photo': {'prefix': 'https://fastly.4sqi.net/img/user/',\n",
       "        'suffix': '/81343017-YIR3WZJ1KZSSPFMY.jpg'}},\n",
       "      'editable': False,\n",
       "      'public': True,\n",
       "      'collaborative': False,\n",
       "      'url': '/user/81343017/list/nyc',\n",
       "      'canonicalUrl': 'https://foursquare.com/user/81343017/list/nyc',\n",
       "      'createdAt': 1509713894,\n",
       "      'updatedAt': 1571220101,\n",
       "      'photo': {'id': '522de4812fc67f1f5e6449b9',\n",
       "       'createdAt': 1378739329,\n",
       "       'prefix': 'https://fastly.4sqi.net/img/general/',\n",
       "       'suffix': '/66246724_22wzJVaperSfBXfOpb1Cnc2aYQWaw03wymLfxi5-DjI.jpg',\n",
       "       'width': 2100,\n",
       "       'height': 1248,\n",
       "       'user': {'id': '66246724',\n",
       "        'firstName': 'Museum of the Moving Image',\n",
       "        'photo': {'prefix': 'https://fastly.4sqi.net/img/user/',\n",
       "         'suffix': '/66246724-J4VS5VDFBPXYAM53.png'},\n",
       "        'type': 'venuePage',\n",
       "        'venue': {'id': '424de080f964a520aa201fe3'}},\n",
       "       'visibility': 'public'},\n",
       "      'followers': {'count': 2},\n",
       "      'listItems': {'count': 130,\n",
       "       'items': [{'id': 'v4c79d294278eb713f6a05580',\n",
       "         'createdAt': 1533669506}]}},\n",
       "     {'id': '4ff8647ee4b01d0820d2de6e',\n",
       "      'name': \"Tri-State To-Do's + SI\",\n",
       "      'description': '',\n",
       "      'type': 'others',\n",
       "      'user': {'id': '66672',\n",
       "       'firstName': 'Rachel',\n",
       "       'lastName': 'W',\n",
       "       'photo': {'prefix': 'https://fastly.4sqi.net/img/user/',\n",
       "        'suffix': '/66672_nmeKCbUn_JPON_UQUSVA_1yiG-U6aTgyH88SWg8DUOGgwYQ00b9V36VwAKZaD5bo8BpAZpAFh.jpg'}},\n",
       "      'editable': False,\n",
       "      'public': True,\n",
       "      'collaborative': False,\n",
       "      'url': '/relevantrachel/list/tristate-todos--si',\n",
       "      'canonicalUrl': 'https://foursquare.com/relevantrachel/list/tristate-todos--si',\n",
       "      'createdAt': 1341678718,\n",
       "      'updatedAt': 1580626291,\n",
       "      'photo': {'id': '4e9b71afb8f7831366ae6242',\n",
       "       'createdAt': 1318810031,\n",
       "       'prefix': 'https://fastly.4sqi.net/img/general/',\n",
       "       'suffix': '/MQ143JLOYKWMTOTA5M22VWM014SSOW42Q3PVOC5QKGDOTJEY.jpg',\n",
       "       'width': 720,\n",
       "       'height': 540,\n",
       "       'user': {'id': '372016',\n",
       "        'firstName': 'Amanda',\n",
       "        'photo': {'prefix': 'https://fastly.4sqi.net/img/user/',\n",
       "         'suffix': '/CT2KRMUGTUFXLDRF.jpg'}},\n",
       "       'visibility': 'public'},\n",
       "      'followers': {'count': 3},\n",
       "      'listItems': {'count': 105,\n",
       "       'items': [{'id': 't533248a5498ecf1f7c15a3ec',\n",
       "         'createdAt': 1396367703}]}},\n",
       "     {'id': '55785f7f498ed107f3fb1931',\n",
       "      'name': 'Queens and the Bronx',\n",
       "      'description': '',\n",
       "      'type': 'others',\n",
       "      'user': {'id': '47858951',\n",
       "       'firstName': 'Richie',\n",
       "       'lastName': 'S',\n",
       "       'photo': {'prefix': 'https://fastly.4sqi.net/img/user/',\n",
       "        'suffix': '/47858951_IYD0Oq41_o4Bcm2xqVLrwyQsnONte_KA7fNCLcejuTZ8MrCa9cIFteCz7ZOu3G6M2Smi3Jhw6.jpg'}},\n",
       "      'editable': False,\n",
       "      'public': True,\n",
       "      'collaborative': False,\n",
       "      'url': '/eatsploring/list/queens-and-the-bronx',\n",
       "      'canonicalUrl': 'https://foursquare.com/eatsploring/list/queens-and-the-bronx',\n",
       "      'createdAt': 1433952127,\n",
       "      'updatedAt': 1530833582,\n",
       "      'followers': {'count': 1},\n",
       "      'listItems': {'count': 225,\n",
       "       'items': [{'id': 'v4c79d294278eb713f6a05580',\n",
       "         'createdAt': 1442845694}]}},\n",
       "     {'id': '57ace590498e385294d33ed1',\n",
       "      'name': '60 Cheap NYC Eats You Should Know About',\n",
       "      'description': 'As restaurant prices continue to soar, finding a cheap restaurant meal becomes more of a priority. Here is a collection of those restaurants, listed by location, beginning with Lower Manhattan.',\n",
       "      'type': 'others',\n",
       "      'user': {'id': '3343327',\n",
       "       'firstName': 'Eater',\n",
       "       'photo': {'prefix': 'https://fastly.4sqi.net/img/user/',\n",
       "        'suffix': '/3343327-YQ1D52V3KK2RQLBU.png'},\n",
       "       'type': 'page'},\n",
       "      'editable': False,\n",
       "      'public': True,\n",
       "      'collaborative': False,\n",
       "      'url': '/p/eater/3343327/list/60-cheap-nyc-eats-you-should-know-about',\n",
       "      'canonicalUrl': 'https://foursquare.com/p/eater/3343327/list/60-cheap-nyc-eats-you-should-know-about',\n",
       "      'createdAt': 1470948752,\n",
       "      'updatedAt': 1484857558,\n",
       "      'photo': {'id': '57cf31af498ef351fe4152f7',\n",
       "       'createdAt': 1473196463,\n",
       "       'prefix': 'https://fastly.4sqi.net/img/general/',\n",
       "       'suffix': '/102585_2NDN7Y4LgIZi8o5MZeLVkqFMSFREVSOTYmUBVqB_h5w.jpg',\n",
       "       'width': 1440,\n",
       "       'height': 1920,\n",
       "       'user': {'id': '102585',\n",
       "        'firstName': 'Vicky',\n",
       "        'lastName': 'C',\n",
       "        'photo': {'prefix': 'https://fastly.4sqi.net/img/user/',\n",
       "         'suffix': '/102585_1xwu5QA4_YFEdNK-bRVupHVvgavdzLhBizZ16thQFPXIMCMwphFWRdADi7ZBAu0XIV2cazJY5'}},\n",
       "       'visibility': 'public'},\n",
       "      'logView': True,\n",
       "      'followers': {'count': 208},\n",
       "      'listItems': {'count': 59,\n",
       "       'items': [{'id': 't57b20fc6498e840b4bfd784e',\n",
       "         'createdAt': 1471292313,\n",
       "         'photo': {'id': '552011c2498eeeee00eb6e66',\n",
       "          'createdAt': 1428165058,\n",
       "          'prefix': 'https://fastly.4sqi.net/img/general/',\n",
       "          'suffix': '/122098090_UHVTn9ygqODaH05TslOASmPlvPLQ0VuYT3VPaBpHlKg.jpg',\n",
       "          'width': 640,\n",
       "          'height': 640,\n",
       "          'user': {'id': '122098090',\n",
       "           'firstName': 'Sonia',\n",
       "           'lastName': 'Q',\n",
       "           'photo': {'prefix': 'https://fastly.4sqi.net/img/user/',\n",
       "            'suffix': '/122098090-3J2BOS5PAGW4IPZX.jpg'}},\n",
       "          'visibility': 'public'}}]}}]}]},\n",
       " 'hours': {'status': 'Closed until 7:00 AM tomorrow',\n",
       "  'richStatus': {'entities': [], 'text': 'Closed until 7:00 AM tomorrow'},\n",
       "  'isOpen': False,\n",
       "  'isLocalHoliday': False,\n",
       "  'dayData': [],\n",
       "  'timeframes': [{'days': 'Mon–Sat',\n",
       "    'open': [{'renderedTime': '7:00 AM–5:30 PM'}],\n",
       "    'segments': []}]},\n",
       " 'popular': {'isOpen': False,\n",
       "  'isLocalHoliday': False,\n",
       "  'timeframes': [{'days': 'Today',\n",
       "    'includesToday': True,\n",
       "    'open': [{'renderedTime': '7:00 AM–8:00 AM'},\n",
       "     {'renderedTime': '3:00 PM–4:00 PM'}],\n",
       "    'segments': []},\n",
       "   {'days': 'Mon–Tue',\n",
       "    'open': [{'renderedTime': '11:00 AM–3:00 PM'}],\n",
       "    'segments': []},\n",
       "   {'days': 'Wed',\n",
       "    'open': [{'renderedTime': '11:00 AM–5:00 PM'}],\n",
       "    'segments': []},\n",
       "   {'days': 'Thu', 'open': [{'renderedTime': 'Noon–4:00 PM'}], 'segments': []},\n",
       "   {'days': 'Fri',\n",
       "    'open': [{'renderedTime': '11:00 AM–5:00 PM'}],\n",
       "    'segments': []},\n",
       "   {'days': 'Sat',\n",
       "    'open': [{'renderedTime': '8:00 AM–6:00 PM'}],\n",
       "    'segments': []}]},\n",
       " 'pageUpdates': {'count': 0, 'items': []},\n",
       " 'inbox': {'count': 0, 'items': []},\n",
       " 'parent': {'id': '4b6dc1f6f964a520f98c2ce3',\n",
       "  'name': 'Arthur Avenue Retail Market',\n",
       "  'location': {'address': '2344 Arthur Ave',\n",
       "   'lat': 40.854156791455715,\n",
       "   'lng': -73.88817917236352,\n",
       "   'labeledLatLngs': [{'label': 'display',\n",
       "     'lat': 40.854156791455715,\n",
       "     'lng': -73.88817917236352}],\n",
       "   'postalCode': '10458',\n",
       "   'cc': 'US',\n",
       "   'city': 'Bronx',\n",
       "   'state': 'NY',\n",
       "   'country': 'United States',\n",
       "   'formattedAddress': ['2344 Arthur Ave',\n",
       "    'Bronx, NY 10458',\n",
       "    'United States']},\n",
       "  'categories': [{'id': '50be8ee891d4fa8dcc7199a7',\n",
       "    'name': 'Market',\n",
       "    'pluralName': 'Markets',\n",
       "    'shortName': 'Market',\n",
       "    'icon': {'prefix': 'https://ss3.4sqi.net/img/categories_v2/shops/market_',\n",
       "     'suffix': '.png'},\n",
       "    'primary': True}]},\n",
       " 'hierarchy': [{'name': 'Arthur Avenue Retail Market',\n",
       "   'lang': 'en',\n",
       "   'id': '4b6dc1f6f964a520f98c2ce3',\n",
       "   'canonicalUrl': 'https://foursquare.com/v/arthur-avenue-retail-market/4b6dc1f6f964a520f98c2ce3'}],\n",
       " 'attributes': {'groups': [{'type': 'price',\n",
       "    'name': 'Price',\n",
       "    'summary': '$$',\n",
       "    'count': 1,\n",
       "    'items': [{'displayName': 'Price', 'displayValue': '$$', 'priceTier': 2}]},\n",
       "   {'type': 'reservations',\n",
       "    'name': 'Reservations',\n",
       "    'count': 3,\n",
       "    'items': [{'displayName': 'Reservations', 'displayValue': 'No'}]},\n",
       "   {'type': 'outdoorSeating',\n",
       "    'name': 'Outdoor Seating',\n",
       "    'count': 1,\n",
       "    'items': [{'displayName': 'Outdoor Seating', 'displayValue': 'No'}]},\n",
       "   {'type': 'serves',\n",
       "    'name': 'Menus',\n",
       "    'summary': 'Brunch & Lunch',\n",
       "    'count': 8,\n",
       "    'items': [{'displayName': 'Brunch', 'displayValue': 'Brunch'},\n",
       "     {'displayName': 'Lunch', 'displayValue': 'Lunch'}]},\n",
       "   {'type': 'diningOptions',\n",
       "    'name': 'Dining Options',\n",
       "    'count': 5,\n",
       "    'items': [{'displayName': 'Delivery', 'displayValue': 'No Delivery'}]}]},\n",
       " 'bestPhoto': {'id': '59a84d5e61f070506c468817',\n",
       "  'createdAt': 1504202078,\n",
       "  'source': {'name': 'Swarm for iOS', 'url': 'https://www.swarmapp.com'},\n",
       "  'prefix': 'https://fastly.4sqi.net/img/general/',\n",
       "  'suffix': '/1174124_AG0XfQOljXw1Dkt04hS_XtWcFjDJN6fK6y3VgeB5pqE.jpg',\n",
       "  'width': 1440,\n",
       "  'height': 1920,\n",
       "  'visibility': 'public'},\n",
       " 'colors': {'highlightColor': {'photoId': '59a84d5e61f070506c468817',\n",
       "   'value': -12564456},\n",
       "  'highlightTextColor': {'photoId': '59a84d5e61f070506c468817', 'value': -1},\n",
       "  'algoVersion': 3}}"
      ]
     },
     "execution_count": 51,
     "metadata": {},
     "output_type": "execute_result"
    }
   ],
   "source": [
    "result = requests.get(url).json()\n",
    "print(result['response']['venue'].keys())\n",
    "result['response']['venue']"
   ]
  },
  {
   "cell_type": "code",
   "execution_count": 54,
   "metadata": {},
   "outputs": [
    {
     "data": {
      "text/plain": [
       "8.1"
      ]
     },
     "execution_count": 54,
     "metadata": {},
     "output_type": "execute_result"
    }
   ],
   "source": [
    "result['response']['venue']['rating']"
   ]
  },
  {
   "cell_type": "code",
   "execution_count": 55,
   "metadata": {},
   "outputs": [
    {
     "data": {
      "text/plain": [
       "{'tier': 2, 'message': 'Moderate', 'currency': '$'}"
      ]
     },
     "execution_count": 55,
     "metadata": {},
     "output_type": "execute_result"
    }
   ],
   "source": [
    "result['response']['venue']['price']"
   ]
  },
  {
   "cell_type": "code",
   "execution_count": 58,
   "metadata": {},
   "outputs": [
    {
     "data": {
      "text/plain": [
       "{'status': 'Closed until 7:00 AM tomorrow',\n",
       " 'richStatus': {'entities': [], 'text': 'Closed until 7:00 AM tomorrow'},\n",
       " 'isOpen': False,\n",
       " 'isLocalHoliday': False,\n",
       " 'dayData': [],\n",
       " 'timeframes': [{'days': 'Mon–Sat',\n",
       "   'open': [{'renderedTime': '7:00 AM–5:30 PM'}],\n",
       "   'segments': []}]}"
      ]
     },
     "execution_count": 58,
     "metadata": {},
     "output_type": "execute_result"
    }
   ],
   "source": [
    "result['response']['venue']['hours']"
   ]
  },
  {
   "cell_type": "code",
   "execution_count": 59,
   "metadata": {},
   "outputs": [
    {
     "data": {
      "text/plain": [
       "'https://api.foursquare.com/v2/venues/4bb648cef562ef3b3fea2f97?client_id=XWWKC4DCATGXLDLXCE2F3UATKKBSNBGEF2D4CCXWK1CRJDDH&client_secret=XXI0QDDDFEU3AKQLM1NKABJ5BDV04VJJC5CCZDVHN0E1UECM&v=20200217'"
      ]
     },
     "execution_count": 59,
     "metadata": {},
     "output_type": "execute_result"
    }
   ],
   "source": [
    "venue_id = '4bb648cef562ef3b3fea2f97' # ID of Harry's Italian Pizza Bar\n",
    "url = 'https://api.foursquare.com/v2/venues/{}?client_id={}&client_secret={}&v={}'.format(venue_id, CLIENT_ID, CLIENT_SECRET, VERSION)\n",
    "url"
   ]
  },
  {
   "cell_type": "code",
   "execution_count": 64,
   "metadata": {},
   "outputs": [
    {
     "name": "stdout",
     "output_type": "stream",
     "text": [
      "8.0\n"
     ]
    }
   ],
   "source": [
    "result = requests.get(url).json()\n",
    "try:\n",
    "    print(result['response']['venue']['rating'])\n",
    "except:\n",
    "    print('This venue has not been rated yet.')"
   ]
  },
  {
   "cell_type": "code",
   "execution_count": 68,
   "metadata": {},
   "outputs": [
    {
     "data": {
      "text/plain": [
       "{'tier': 1, 'message': 'Cheap', 'currency': '$'}"
      ]
     },
     "execution_count": 68,
     "metadata": {},
     "output_type": "execute_result"
    }
   ],
   "source": [
    "result['response']['venue']['price']"
   ]
  },
  {
   "cell_type": "code",
   "execution_count": 69,
   "metadata": {},
   "outputs": [
    {
     "data": {
      "text/plain": [
       "'https://api.foursquare.com/v2/venues/44941e38f964a52081341fe3?client_id=XWWKC4DCATGXLDLXCE2F3UATKKBSNBGEF2D4CCXWK1CRJDDH&client_secret=XXI0QDDDFEU3AKQLM1NKABJ5BDV04VJJC5CCZDVHN0E1UECM&v=20200217'"
      ]
     },
     "execution_count": 69,
     "metadata": {},
     "output_type": "execute_result"
    }
   ],
   "source": [
    "venue_id = '44941e38f964a52081341fe3' # ID of Harry's Italian Pizza Bar\n",
    "url = 'https://api.foursquare.com/v2/venues/{}?client_id={}&client_secret={}&v={}'.format(venue_id, CLIENT_ID, CLIENT_SECRET, VERSION)\n",
    "url"
   ]
  },
  {
   "cell_type": "code",
   "execution_count": 70,
   "metadata": {},
   "outputs": [
    {
     "name": "stdout",
     "output_type": "stream",
     "text": [
      "5.9\n"
     ]
    }
   ],
   "source": [
    "result = requests.get(url).json()\n",
    "try:\n",
    "    print(result['response']['venue']['rating'])\n",
    "except:\n",
    "    print('This venue has not been rated yet.')"
   ]
  },
  {
   "cell_type": "code",
   "execution_count": 71,
   "metadata": {},
   "outputs": [
    {
     "data": {
      "text/plain": [
       "{'tier': 2, 'message': 'Moderate', 'currency': '$'}"
      ]
     },
     "execution_count": 71,
     "metadata": {},
     "output_type": "execute_result"
    }
   ],
   "source": [
    "result['response']['venue']['price']"
   ]
  },
  {
   "cell_type": "code",
   "execution_count": 72,
   "metadata": {},
   "outputs": [
    {
     "data": {
      "text/plain": [
       "'https://api.foursquare.com/v2/venues/4b8956c2f964a520d62c32e3?client_id=XWWKC4DCATGXLDLXCE2F3UATKKBSNBGEF2D4CCXWK1CRJDDH&client_secret=XXI0QDDDFEU3AKQLM1NKABJ5BDV04VJJC5CCZDVHN0E1UECM&v=20200217'"
      ]
     },
     "execution_count": 72,
     "metadata": {},
     "output_type": "execute_result"
    }
   ],
   "source": [
    "venue_id = '4b8956c2f964a520d62c32e3' # ID of Harry's Italian Pizza Bar\n",
    "url = 'https://api.foursquare.com/v2/venues/{}?client_id={}&client_secret={}&v={}'.format(venue_id, CLIENT_ID, CLIENT_SECRET, VERSION)\n",
    "url"
   ]
  },
  {
   "cell_type": "code",
   "execution_count": 73,
   "metadata": {},
   "outputs": [
    {
     "name": "stdout",
     "output_type": "stream",
     "text": [
      "5.4\n"
     ]
    }
   ],
   "source": [
    "result = requests.get(url).json()\n",
    "try:\n",
    "    print(result['response']['venue']['rating'])\n",
    "except:\n",
    "    print('This venue has not been rated yet.')"
   ]
  },
  {
   "cell_type": "code",
   "execution_count": 74,
   "metadata": {},
   "outputs": [
    {
     "data": {
      "text/plain": [
       "{'tier': 2, 'message': 'Moderate', 'currency': '$'}"
      ]
     },
     "execution_count": 74,
     "metadata": {},
     "output_type": "execute_result"
    }
   ],
   "source": [
    "result['response']['venue']['price']"
   ]
  },
  {
   "cell_type": "code",
   "execution_count": 75,
   "metadata": {},
   "outputs": [
    {
     "data": {
      "text/plain": [
       "'https://api.foursquare.com/v2/venues/4c406ea5520fa5938000c8ac?client_id=XWWKC4DCATGXLDLXCE2F3UATKKBSNBGEF2D4CCXWK1CRJDDH&client_secret=XXI0QDDDFEU3AKQLM1NKABJ5BDV04VJJC5CCZDVHN0E1UECM&v=20200217'"
      ]
     },
     "execution_count": 75,
     "metadata": {},
     "output_type": "execute_result"
    }
   ],
   "source": [
    "venue_id = '4c406ea5520fa5938000c8ac' # ID of Harry's Italian Pizza Bar\n",
    "url = 'https://api.foursquare.com/v2/venues/{}?client_id={}&client_secret={}&v={}'.format(venue_id, CLIENT_ID, CLIENT_SECRET, VERSION)\n",
    "url"
   ]
  },
  {
   "cell_type": "code",
   "execution_count": 76,
   "metadata": {},
   "outputs": [
    {
     "name": "stdout",
     "output_type": "stream",
     "text": [
      "This venue has not been rated yet.\n"
     ]
    }
   ],
   "source": [
    "result = requests.get(url).json()\n",
    "try:\n",
    "    print(result['response']['venue']['rating'])\n",
    "except:\n",
    "    print('This venue has not been rated yet.')"
   ]
  },
  {
   "cell_type": "code",
   "execution_count": 77,
   "metadata": {},
   "outputs": [
    {
     "data": {
      "text/plain": [
       "{'tier': 1, 'message': 'Cheap', 'currency': '$'}"
      ]
     },
     "execution_count": 77,
     "metadata": {},
     "output_type": "execute_result"
    }
   ],
   "source": [
    "result['response']['venue']['price']"
   ]
  },
  {
   "cell_type": "code",
   "execution_count": 78,
   "metadata": {},
   "outputs": [
    {
     "data": {
      "text/plain": [
       "'https://api.foursquare.com/v2/venues/4cc62765bde8f04db06eb54b?client_id=XWWKC4DCATGXLDLXCE2F3UATKKBSNBGEF2D4CCXWK1CRJDDH&client_secret=XXI0QDDDFEU3AKQLM1NKABJ5BDV04VJJC5CCZDVHN0E1UECM&v=20200217'"
      ]
     },
     "execution_count": 78,
     "metadata": {},
     "output_type": "execute_result"
    }
   ],
   "source": [
    "venue_id = '4cc62765bde8f04db06eb54b' # ID of Harry's Italian Pizza Bar\n",
    "url = 'https://api.foursquare.com/v2/venues/{}?client_id={}&client_secret={}&v={}'.format(venue_id, CLIENT_ID, CLIENT_SECRET, VERSION)\n",
    "url"
   ]
  },
  {
   "cell_type": "code",
   "execution_count": 79,
   "metadata": {},
   "outputs": [
    {
     "name": "stdout",
     "output_type": "stream",
     "text": [
      "This venue has not been rated yet.\n"
     ]
    }
   ],
   "source": [
    "result = requests.get(url).json()\n",
    "try:\n",
    "    print(result['response']['venue']['rating'])\n",
    "except:\n",
    "    print('This venue has not been rated yet.')"
   ]
  },
  {
   "cell_type": "code",
   "execution_count": 80,
   "metadata": {},
   "outputs": [
    {
     "data": {
      "text/plain": [
       "{'tier': 3, 'message': 'Expensive', 'currency': '$'}"
      ]
     },
     "execution_count": 80,
     "metadata": {},
     "output_type": "execute_result"
    }
   ],
   "source": [
    "result['response']['venue']['price']"
   ]
  },
  {
   "cell_type": "code",
   "execution_count": 82,
   "metadata": {},
   "outputs": [
    {
     "data": {
      "text/plain": [
       "'https://api.foursquare.com/v2/venues/4d39a9bacc48224b57ae354f?client_id=XWWKC4DCATGXLDLXCE2F3UATKKBSNBGEF2D4CCXWK1CRJDDH&client_secret=XXI0QDDDFEU3AKQLM1NKABJ5BDV04VJJC5CCZDVHN0E1UECM&v=20200217'"
      ]
     },
     "execution_count": 82,
     "metadata": {},
     "output_type": "execute_result"
    }
   ],
   "source": [
    "venue_id = '4d39a9bacc48224b57ae354f' # ID of Harry's Italian Pizza Bar\n",
    "url = 'https://api.foursquare.com/v2/venues/{}?client_id={}&client_secret={}&v={}'.format(venue_id, CLIENT_ID, CLIENT_SECRET, VERSION)\n",
    "url"
   ]
  },
  {
   "cell_type": "code",
   "execution_count": 83,
   "metadata": {},
   "outputs": [
    {
     "name": "stdout",
     "output_type": "stream",
     "text": [
      "8.4\n"
     ]
    }
   ],
   "source": [
    "result = requests.get(url).json()\n",
    "try:\n",
    "    print(result['response']['venue']['rating'])\n",
    "except:\n",
    "    print('This venue has not been rated yet.')"
   ]
  },
  {
   "cell_type": "code",
   "execution_count": 84,
   "metadata": {},
   "outputs": [
    {
     "data": {
      "text/plain": [
       "{'tier': 1, 'message': 'Cheap', 'currency': '$'}"
      ]
     },
     "execution_count": 84,
     "metadata": {},
     "output_type": "execute_result"
    }
   ],
   "source": [
    "result['response']['venue']['price']"
   ]
  },
  {
   "cell_type": "code",
   "execution_count": 85,
   "metadata": {},
   "outputs": [
    {
     "data": {
      "text/plain": [
       "'https://api.foursquare.com/v2/venues/4fae70c1e4b021a2c00b6b2f?client_id=XWWKC4DCATGXLDLXCE2F3UATKKBSNBGEF2D4CCXWK1CRJDDH&client_secret=XXI0QDDDFEU3AKQLM1NKABJ5BDV04VJJC5CCZDVHN0E1UECM&v=20200217'"
      ]
     },
     "execution_count": 85,
     "metadata": {},
     "output_type": "execute_result"
    }
   ],
   "source": [
    "venue_id = '4fae70c1e4b021a2c00b6b2f' # ID of Harry's Italian Pizza Bar\n",
    "url = 'https://api.foursquare.com/v2/venues/{}?client_id={}&client_secret={}&v={}'.format(venue_id, CLIENT_ID, CLIENT_SECRET, VERSION)\n",
    "url"
   ]
  },
  {
   "cell_type": "code",
   "execution_count": 86,
   "metadata": {},
   "outputs": [
    {
     "name": "stdout",
     "output_type": "stream",
     "text": [
      "5.7\n"
     ]
    }
   ],
   "source": [
    "result = requests.get(url).json()\n",
    "try:\n",
    "    print(result['response']['venue']['rating'])\n",
    "except:\n",
    "    print('This venue has not been rated yet.')"
   ]
  },
  {
   "cell_type": "code",
   "execution_count": 87,
   "metadata": {},
   "outputs": [
    {
     "data": {
      "text/plain": [
       "{'tier': 1, 'message': 'Cheap', 'currency': '$'}"
      ]
     },
     "execution_count": 87,
     "metadata": {},
     "output_type": "execute_result"
    }
   ],
   "source": [
    "result['response']['venue']['price']"
   ]
  },
  {
   "cell_type": "code",
   "execution_count": 88,
   "metadata": {},
   "outputs": [
    {
     "data": {
      "text/plain": [
       "'https://api.foursquare.com/v2/venues/4de194cec65b7a3e2106af4d?client_id=XWWKC4DCATGXLDLXCE2F3UATKKBSNBGEF2D4CCXWK1CRJDDH&client_secret=XXI0QDDDFEU3AKQLM1NKABJ5BDV04VJJC5CCZDVHN0E1UECM&v=20200217'"
      ]
     },
     "execution_count": 88,
     "metadata": {},
     "output_type": "execute_result"
    }
   ],
   "source": [
    "venue_id = '4de194cec65b7a3e2106af4d' # ID of Harry's Italian Pizza Bar\n",
    "url = 'https://api.foursquare.com/v2/venues/{}?client_id={}&client_secret={}&v={}'.format(venue_id, CLIENT_ID, CLIENT_SECRET, VERSION)\n",
    "url"
   ]
  },
  {
   "cell_type": "code",
   "execution_count": 89,
   "metadata": {},
   "outputs": [
    {
     "name": "stdout",
     "output_type": "stream",
     "text": [
      "This venue has not been rated yet.\n"
     ]
    }
   ],
   "source": [
    "result = requests.get(url).json()\n",
    "try:\n",
    "    print(result['response']['venue']['rating'])\n",
    "except:\n",
    "    print('This venue has not been rated yet.')"
   ]
  },
  {
   "cell_type": "code",
   "execution_count": 90,
   "metadata": {},
   "outputs": [
    {
     "data": {
      "text/plain": [
       "{'tier': 2, 'message': 'Moderate', 'currency': '$'}"
      ]
     },
     "execution_count": 90,
     "metadata": {},
     "output_type": "execute_result"
    }
   ],
   "source": [
    "result['response']['venue']['price']"
   ]
  },
  {
   "cell_type": "code",
   "execution_count": 91,
   "metadata": {},
   "outputs": [
    {
     "data": {
      "text/plain": [
       "'https://api.foursquare.com/v2/venues/4f326c6319836c91c7d663d8?client_id=XWWKC4DCATGXLDLXCE2F3UATKKBSNBGEF2D4CCXWK1CRJDDH&client_secret=XXI0QDDDFEU3AKQLM1NKABJ5BDV04VJJC5CCZDVHN0E1UECM&v=20200217'"
      ]
     },
     "execution_count": 91,
     "metadata": {},
     "output_type": "execute_result"
    }
   ],
   "source": [
    "venue_id = '4f326c6319836c91c7d663d8' # ID of Harry's Italian Pizza Bar\n",
    "url = 'https://api.foursquare.com/v2/venues/{}?client_id={}&client_secret={}&v={}'.format(venue_id, CLIENT_ID, CLIENT_SECRET, VERSION)\n",
    "url"
   ]
  },
  {
   "cell_type": "code",
   "execution_count": 92,
   "metadata": {},
   "outputs": [
    {
     "name": "stdout",
     "output_type": "stream",
     "text": [
      "This venue has not been rated yet.\n"
     ]
    }
   ],
   "source": [
    "result = requests.get(url).json()\n",
    "try:\n",
    "    print(result['response']['venue']['rating'])\n",
    "except:\n",
    "    print('This venue has not been rated yet.')"
   ]
  },
  {
   "cell_type": "code",
   "execution_count": 93,
   "metadata": {},
   "outputs": [
    {
     "data": {
      "text/plain": [
       "{'tier': 1, 'message': 'Cheap', 'currency': '$'}"
      ]
     },
     "execution_count": 93,
     "metadata": {},
     "output_type": "execute_result"
    }
   ],
   "source": [
    "result['response']['venue']['price']"
   ]
  },
  {
   "cell_type": "code",
   "execution_count": 94,
   "metadata": {},
   "outputs": [
    {
     "data": {
      "text/plain": [
       "'https://api.foursquare.com/v2/venues/4ef56f65a69dea74f915b704?client_id=XWWKC4DCATGXLDLXCE2F3UATKKBSNBGEF2D4CCXWK1CRJDDH&client_secret=XXI0QDDDFEU3AKQLM1NKABJ5BDV04VJJC5CCZDVHN0E1UECM&v=20200217'"
      ]
     },
     "execution_count": 94,
     "metadata": {},
     "output_type": "execute_result"
    }
   ],
   "source": [
    "venue_id = '4ef56f65a69dea74f915b704' # ID of Harry's Italian Pizza Bar\n",
    "url = 'https://api.foursquare.com/v2/venues/{}?client_id={}&client_secret={}&v={}'.format(venue_id, CLIENT_ID, CLIENT_SECRET, VERSION)\n",
    "url"
   ]
  },
  {
   "cell_type": "code",
   "execution_count": 95,
   "metadata": {},
   "outputs": [
    {
     "name": "stdout",
     "output_type": "stream",
     "text": [
      "6.8\n"
     ]
    }
   ],
   "source": [
    "result = requests.get(url).json()\n",
    "try:\n",
    "    print(result['response']['venue']['rating'])\n",
    "except:\n",
    "    print('This venue has not been rated yet.')"
   ]
  },
  {
   "cell_type": "code",
   "execution_count": 96,
   "metadata": {},
   "outputs": [
    {
     "data": {
      "text/plain": [
       "{'tier': 1, 'message': 'Cheap', 'currency': '$'}"
      ]
     },
     "execution_count": 96,
     "metadata": {},
     "output_type": "execute_result"
    }
   ],
   "source": [
    "result['response']['venue']['price']"
   ]
  },
  {
   "cell_type": "code",
   "execution_count": 97,
   "metadata": {},
   "outputs": [
    {
     "data": {
      "text/plain": [
       "'https://api.foursquare.com/v2/venues/4bf033acc601a593b167c3d1?client_id=XWWKC4DCATGXLDLXCE2F3UATKKBSNBGEF2D4CCXWK1CRJDDH&client_secret=XXI0QDDDFEU3AKQLM1NKABJ5BDV04VJJC5CCZDVHN0E1UECM&v=20200217'"
      ]
     },
     "execution_count": 97,
     "metadata": {},
     "output_type": "execute_result"
    }
   ],
   "source": [
    "venue_id = '4bf033acc601a593b167c3d1' # ID of Harry's Italian Pizza Bar\n",
    "url = 'https://api.foursquare.com/v2/venues/{}?client_id={}&client_secret={}&v={}'.format(venue_id, CLIENT_ID, CLIENT_SECRET, VERSION)\n",
    "url"
   ]
  },
  {
   "cell_type": "code",
   "execution_count": 98,
   "metadata": {},
   "outputs": [
    {
     "name": "stdout",
     "output_type": "stream",
     "text": [
      "This venue has not been rated yet.\n"
     ]
    }
   ],
   "source": [
    "result = requests.get(url).json()\n",
    "try:\n",
    "    print(result['response']['venue']['rating'])\n",
    "except:\n",
    "    print('This venue has not been rated yet.')"
   ]
  },
  {
   "cell_type": "code",
   "execution_count": 99,
   "metadata": {},
   "outputs": [
    {
     "data": {
      "text/plain": [
       "{'tier': 1, 'message': 'Cheap', 'currency': '$'}"
      ]
     },
     "execution_count": 99,
     "metadata": {},
     "output_type": "execute_result"
    }
   ],
   "source": [
    "result['response']['venue']['price']"
   ]
  },
  {
   "cell_type": "code",
   "execution_count": 100,
   "metadata": {},
   "outputs": [
    {
     "data": {
      "text/plain": [
       "'https://api.foursquare.com/v2/venues/4492ad65f964a52075341fe3?client_id=XWWKC4DCATGXLDLXCE2F3UATKKBSNBGEF2D4CCXWK1CRJDDH&client_secret=XXI0QDDDFEU3AKQLM1NKABJ5BDV04VJJC5CCZDVHN0E1UECM&v=20200217'"
      ]
     },
     "execution_count": 100,
     "metadata": {},
     "output_type": "execute_result"
    }
   ],
   "source": [
    "venue_id = '4492ad65f964a52075341fe3' # ID of Harry's Italian Pizza Bar\n",
    "url = 'https://api.foursquare.com/v2/venues/{}?client_id={}&client_secret={}&v={}'.format(venue_id, CLIENT_ID, CLIENT_SECRET, VERSION)\n",
    "url"
   ]
  },
  {
   "cell_type": "code",
   "execution_count": 101,
   "metadata": {},
   "outputs": [
    {
     "name": "stdout",
     "output_type": "stream",
     "text": [
      "9.0\n"
     ]
    }
   ],
   "source": [
    "result = requests.get(url).json()\n",
    "try:\n",
    "    print(result['response']['venue']['rating'])\n",
    "except:\n",
    "    print('This venue has not been rated yet.')"
   ]
  },
  {
   "cell_type": "code",
   "execution_count": 103,
   "metadata": {},
   "outputs": [
    {
     "name": "stdout",
     "output_type": "stream",
     "text": [
      "This venue has not been priced yet.\n"
     ]
    }
   ],
   "source": [
    "try:\n",
    "    print(result['response']['venue']['price'])\n",
    "except:\n",
    "    print('This venue has not been priced yet.')"
   ]
  },
  {
   "cell_type": "code",
   "execution_count": 104,
   "metadata": {},
   "outputs": [
    {
     "data": {
      "text/plain": [
       "'https://api.foursquare.com/v2/venues/4492ad65f964a52075341fe3?client_id=XWWKC4DCATGXLDLXCE2F3UATKKBSNBGEF2D4CCXWK1CRJDDH&client_secret=XXI0QDDDFEU3AKQLM1NKABJ5BDV04VJJC5CCZDVHN0E1UECM&v=20200217'"
      ]
     },
     "execution_count": 104,
     "metadata": {},
     "output_type": "execute_result"
    }
   ],
   "source": [
    "venue_id = '4492ad65f964a52075341fe3' # ID of Harry's Italian Pizza Bar\n",
    "url = 'https://api.foursquare.com/v2/venues/{}?client_id={}&client_secret={}&v={}'.format(venue_id, CLIENT_ID, CLIENT_SECRET, VERSION)\n",
    "url"
   ]
  },
  {
   "cell_type": "code",
   "execution_count": 105,
   "metadata": {},
   "outputs": [
    {
     "name": "stdout",
     "output_type": "stream",
     "text": [
      "9.0\n"
     ]
    }
   ],
   "source": [
    "result = requests.get(url).json()\n",
    "try:\n",
    "    print(result['response']['venue']['rating'])\n",
    "except:\n",
    "    print('This venue has not been rated yet.')"
   ]
  },
  {
   "cell_type": "code",
   "execution_count": 106,
   "metadata": {},
   "outputs": [
    {
     "name": "stdout",
     "output_type": "stream",
     "text": [
      "This venue has not been priced yet.\n"
     ]
    }
   ],
   "source": [
    "try:\n",
    "    print(result['response']['venue']['price'])\n",
    "except:\n",
    "    print('This venue has not been priced yet.')"
   ]
  },
  {
   "cell_type": "code",
   "execution_count": 107,
   "metadata": {},
   "outputs": [
    {
     "data": {
      "text/plain": [
       "'https://api.foursquare.com/v2/venues/4f32562519836c91c7cdbe48?client_id=XWWKC4DCATGXLDLXCE2F3UATKKBSNBGEF2D4CCXWK1CRJDDH&client_secret=XXI0QDDDFEU3AKQLM1NKABJ5BDV04VJJC5CCZDVHN0E1UECM&v=20200217'"
      ]
     },
     "execution_count": 107,
     "metadata": {},
     "output_type": "execute_result"
    }
   ],
   "source": [
    "venue_id = '4f32562519836c91c7cdbe48' # ID of Harry's Italian Pizza Bar\n",
    "url = 'https://api.foursquare.com/v2/venues/{}?client_id={}&client_secret={}&v={}'.format(venue_id, CLIENT_ID, CLIENT_SECRET, VERSION)\n",
    "url"
   ]
  },
  {
   "cell_type": "code",
   "execution_count": 108,
   "metadata": {},
   "outputs": [
    {
     "name": "stdout",
     "output_type": "stream",
     "text": [
      "This venue has not been rated yet.\n"
     ]
    }
   ],
   "source": [
    "result = requests.get(url).json()\n",
    "try:\n",
    "    print(result['response']['venue']['rating'])\n",
    "except:\n",
    "    print('This venue has not been rated yet.')"
   ]
  },
  {
   "cell_type": "code",
   "execution_count": 109,
   "metadata": {},
   "outputs": [
    {
     "name": "stdout",
     "output_type": "stream",
     "text": [
      "{'tier': 1, 'message': 'Cheap', 'currency': '$'}\n"
     ]
    }
   ],
   "source": [
    "try:\n",
    "    print(result['response']['venue']['price'])\n",
    "except:\n",
    "    print('This venue has not been priced yet.')"
   ]
  },
  {
   "cell_type": "code",
   "execution_count": 110,
   "metadata": {},
   "outputs": [
    {
     "data": {
      "text/plain": [
       "'https://api.foursquare.com/v2/venues/4ebded449a52cce4f2b0e2c4?client_id=XWWKC4DCATGXLDLXCE2F3UATKKBSNBGEF2D4CCXWK1CRJDDH&client_secret=XXI0QDDDFEU3AKQLM1NKABJ5BDV04VJJC5CCZDVHN0E1UECM&v=20200217'"
      ]
     },
     "execution_count": 110,
     "metadata": {},
     "output_type": "execute_result"
    }
   ],
   "source": [
    "venue_id = '4ebded449a52cce4f2b0e2c4' # ID of Harry's Italian Pizza Bar\n",
    "url = 'https://api.foursquare.com/v2/venues/{}?client_id={}&client_secret={}&v={}'.format(venue_id, CLIENT_ID, CLIENT_SECRET, VERSION)\n",
    "url"
   ]
  },
  {
   "cell_type": "code",
   "execution_count": 111,
   "metadata": {},
   "outputs": [
    {
     "name": "stdout",
     "output_type": "stream",
     "text": [
      "This venue has not been rated yet.\n"
     ]
    }
   ],
   "source": [
    "result = requests.get(url).json()\n",
    "try:\n",
    "    print(result['response']['venue']['rating'])\n",
    "except:\n",
    "    print('This venue has not been rated yet.')"
   ]
  },
  {
   "cell_type": "code",
   "execution_count": 112,
   "metadata": {},
   "outputs": [
    {
     "name": "stdout",
     "output_type": "stream",
     "text": [
      "{'tier': 1, 'message': 'Cheap', 'currency': '$'}\n"
     ]
    }
   ],
   "source": [
    "try:\n",
    "    print(result['response']['venue']['price'])\n",
    "except:\n",
    "    print('This venue has not been priced yet.')"
   ]
  },
  {
   "cell_type": "code",
   "execution_count": 113,
   "metadata": {},
   "outputs": [
    {
     "data": {
      "text/plain": [
       "'https://api.foursquare.com/v2/venues/50f8466ae4b0688fecd706d8?client_id=XWWKC4DCATGXLDLXCE2F3UATKKBSNBGEF2D4CCXWK1CRJDDH&client_secret=XXI0QDDDFEU3AKQLM1NKABJ5BDV04VJJC5CCZDVHN0E1UECM&v=20200217'"
      ]
     },
     "execution_count": 113,
     "metadata": {},
     "output_type": "execute_result"
    }
   ],
   "source": [
    "venue_id = '50f8466ae4b0688fecd706d8' # ID of Harry's Italian Pizza Bar\n",
    "url = 'https://api.foursquare.com/v2/venues/{}?client_id={}&client_secret={}&v={}'.format(venue_id, CLIENT_ID, CLIENT_SECRET, VERSION)\n",
    "url"
   ]
  },
  {
   "cell_type": "code",
   "execution_count": 114,
   "metadata": {},
   "outputs": [
    {
     "name": "stdout",
     "output_type": "stream",
     "text": [
      "This venue has not been rated yet.\n"
     ]
    }
   ],
   "source": [
    "result = requests.get(url).json()\n",
    "try:\n",
    "    print(result['response']['venue']['rating'])\n",
    "except:\n",
    "    print('This venue has not been rated yet.')"
   ]
  },
  {
   "cell_type": "code",
   "execution_count": 115,
   "metadata": {},
   "outputs": [
    {
     "name": "stdout",
     "output_type": "stream",
     "text": [
      "{'tier': 1, 'message': 'Cheap', 'currency': '$'}\n"
     ]
    }
   ],
   "source": [
    "try:\n",
    "    print(result['response']['venue']['price'])\n",
    "except:\n",
    "    print('This venue has not been priced yet.')"
   ]
  },
  {
   "cell_type": "code",
   "execution_count": 116,
   "metadata": {},
   "outputs": [
    {
     "data": {
      "text/plain": [
       "'https://api.foursquare.com/v2/venues/5264ce2e11d2d2fd2b3232e4?client_id=XWWKC4DCATGXLDLXCE2F3UATKKBSNBGEF2D4CCXWK1CRJDDH&client_secret=XXI0QDDDFEU3AKQLM1NKABJ5BDV04VJJC5CCZDVHN0E1UECM&v=20200217'"
      ]
     },
     "execution_count": 116,
     "metadata": {},
     "output_type": "execute_result"
    }
   ],
   "source": [
    "venue_id = '5264ce2e11d2d2fd2b3232e4' # ID of Harry's Italian Pizza Bar\n",
    "url = 'https://api.foursquare.com/v2/venues/{}?client_id={}&client_secret={}&v={}'.format(venue_id, CLIENT_ID, CLIENT_SECRET, VERSION)\n",
    "url"
   ]
  },
  {
   "cell_type": "code",
   "execution_count": 117,
   "metadata": {},
   "outputs": [
    {
     "name": "stdout",
     "output_type": "stream",
     "text": [
      "This venue has not been rated yet.\n"
     ]
    }
   ],
   "source": [
    "result = requests.get(url).json()\n",
    "try:\n",
    "    print(result['response']['venue']['rating'])\n",
    "except:\n",
    "    print('This venue has not been rated yet.')"
   ]
  },
  {
   "cell_type": "code",
   "execution_count": 118,
   "metadata": {},
   "outputs": [
    {
     "name": "stdout",
     "output_type": "stream",
     "text": [
      "This venue has not been priced yet.\n"
     ]
    }
   ],
   "source": [
    "try:\n",
    "    print(result['response']['venue']['price'])\n",
    "except:\n",
    "    print('This venue has not been priced yet.')"
   ]
  },
  {
   "cell_type": "code",
   "execution_count": 121,
   "metadata": {},
   "outputs": [
    {
     "data": {
      "text/html": [
       "<div>\n",
       "<style scoped>\n",
       "    .dataframe tbody tr th:only-of-type {\n",
       "        vertical-align: middle;\n",
       "    }\n",
       "\n",
       "    .dataframe tbody tr th {\n",
       "        vertical-align: top;\n",
       "    }\n",
       "\n",
       "    .dataframe thead th {\n",
       "        text-align: right;\n",
       "    }\n",
       "</style>\n",
       "<table border=\"1\" class=\"dataframe\">\n",
       "  <thead>\n",
       "    <tr style=\"text-align: right;\">\n",
       "      <th></th>\n",
       "      <th>Name</th>\n",
       "      <th>Rating</th>\n",
       "      <th>Price</th>\n",
       "    </tr>\n",
       "  </thead>\n",
       "  <tbody>\n",
       "    <tr>\n",
       "      <th>0</th>\n",
       "      <td>Morrone Pastry Shop &amp; Cafe</td>\n",
       "      <td>8.0</td>\n",
       "      <td>1</td>\n",
       "    </tr>\n",
       "    <tr>\n",
       "      <th>1</th>\n",
       "      <td>Cafe al Mercato</td>\n",
       "      <td>8.1</td>\n",
       "      <td>2</td>\n",
       "    </tr>\n",
       "    <tr>\n",
       "      <th>2</th>\n",
       "      <td>Arthur Avenue Cafe</td>\n",
       "      <td>5.9</td>\n",
       "      <td>2</td>\n",
       "    </tr>\n",
       "    <tr>\n",
       "      <th>3</th>\n",
       "      <td>The Dancing Crane Cafe</td>\n",
       "      <td>5.4</td>\n",
       "      <td>2</td>\n",
       "    </tr>\n",
       "    <tr>\n",
       "      <th>4</th>\n",
       "      <td>Wild Asia Cafe</td>\n",
       "      <td>-1.0</td>\n",
       "      <td>1</td>\n",
       "    </tr>\n",
       "    <tr>\n",
       "      <th>5</th>\n",
       "      <td>Picnic Cafe</td>\n",
       "      <td>-1.0</td>\n",
       "      <td>3</td>\n",
       "    </tr>\n",
       "    <tr>\n",
       "      <th>6</th>\n",
       "      <td>North Star Cafe</td>\n",
       "      <td>8.4</td>\n",
       "      <td>1</td>\n",
       "    </tr>\n",
       "    <tr>\n",
       "      <th>7</th>\n",
       "      <td>Terrace Cafe</td>\n",
       "      <td>5.7</td>\n",
       "      <td>1</td>\n",
       "    </tr>\n",
       "    <tr>\n",
       "      <th>8</th>\n",
       "      <td>Havanna Cafe</td>\n",
       "      <td>-1.0</td>\n",
       "      <td>2</td>\n",
       "    </tr>\n",
       "    <tr>\n",
       "      <th>9</th>\n",
       "      <td>Cafe Maggiolino</td>\n",
       "      <td>-1.0</td>\n",
       "      <td>1</td>\n",
       "    </tr>\n",
       "    <tr>\n",
       "      <th>10</th>\n",
       "      <td>Istanbul Cafe</td>\n",
       "      <td>6.8</td>\n",
       "      <td>1</td>\n",
       "    </tr>\n",
       "    <tr>\n",
       "      <th>11</th>\n",
       "      <td>Parisienne Cafe</td>\n",
       "      <td>-1.0</td>\n",
       "      <td>1</td>\n",
       "    </tr>\n",
       "    <tr>\n",
       "      <th>12</th>\n",
       "      <td>Bronx Zoo</td>\n",
       "      <td>9.0</td>\n",
       "      <td>-1</td>\n",
       "    </tr>\n",
       "    <tr>\n",
       "      <th>13</th>\n",
       "      <td>Cafe Lasalle</td>\n",
       "      <td>9.0</td>\n",
       "      <td>-1</td>\n",
       "    </tr>\n",
       "    <tr>\n",
       "      <th>14</th>\n",
       "      <td>Laonda Cafe</td>\n",
       "      <td>-1.0</td>\n",
       "      <td>1</td>\n",
       "    </tr>\n",
       "    <tr>\n",
       "      <th>15</th>\n",
       "      <td>Jerusalem cafe</td>\n",
       "      <td>-1.0</td>\n",
       "      <td>1</td>\n",
       "    </tr>\n",
       "    <tr>\n",
       "      <th>16</th>\n",
       "      <td>Karied Mexican deli cafe</td>\n",
       "      <td>-1.0</td>\n",
       "      <td>1</td>\n",
       "    </tr>\n",
       "    <tr>\n",
       "      <th>17</th>\n",
       "      <td>Sunkofa Cafe &amp; Juice Bar</td>\n",
       "      <td>-1.0</td>\n",
       "      <td>-1</td>\n",
       "    </tr>\n",
       "  </tbody>\n",
       "</table>\n",
       "</div>"
      ],
      "text/plain": [
       "                          Name  Rating  Price\n",
       "0   Morrone Pastry Shop & Cafe     8.0      1\n",
       "1              Cafe al Mercato     8.1      2\n",
       "2           Arthur Avenue Cafe     5.9      2\n",
       "3       The Dancing Crane Cafe     5.4      2\n",
       "4               Wild Asia Cafe    -1.0      1\n",
       "5                  Picnic Cafe    -1.0      3\n",
       "6              North Star Cafe     8.4      1\n",
       "7                 Terrace Cafe     5.7      1\n",
       "8                 Havanna Cafe    -1.0      2\n",
       "9              Cafe Maggiolino    -1.0      1\n",
       "10               Istanbul Cafe     6.8      1\n",
       "11             Parisienne Cafe    -1.0      1\n",
       "12                   Bronx Zoo     9.0     -1\n",
       "13                Cafe Lasalle     9.0     -1\n",
       "14                 Laonda Cafe    -1.0      1\n",
       "15              Jerusalem cafe    -1.0      1\n",
       "16    Karied Mexican deli cafe    -1.0      1\n",
       "17    Sunkofa Cafe & Juice Bar    -1.0     -1"
      ]
     },
     "execution_count": 121,
     "metadata": {},
     "output_type": "execute_result"
    }
   ],
   "source": [
    "cafeshop = {'Name': ['Morrone Pastry Shop & Cafe',\n",
    "'Cafe al Mercato',\n",
    "'Arthur Avenue Cafe',\n",
    "'The Dancing Crane Cafe',\n",
    "'Wild Asia Cafe',\n",
    "'Picnic Cafe',\n",
    "'North Star Cafe',\n",
    "'Terrace Cafe',\n",
    "'Havanna Cafe',\n",
    "'Cafe Maggiolino',\n",
    "'Istanbul Cafe',\n",
    "'Parisienne Cafe',\n",
    "'Bronx Zoo',\n",
    "'Cafe Lasalle',\n",
    "'Laonda Cafe',\n",
    "'Jerusalem cafe',\n",
    "'Karied Mexican deli cafe',\n",
    "'Sunkofa Cafe & Juice Bar'], 'Rating': [8,\n",
    "8.1,\n",
    "5.9,\n",
    "5.4,\n",
    "-1,\n",
    "-1,\n",
    "8.4,\n",
    "5.7,\n",
    "-1,\n",
    "-1,\n",
    "6.8,\n",
    "-1,\n",
    "9,\n",
    "9,\n",
    "-1,\n",
    "-1,\n",
    "-1,\n",
    "-1], 'Price': [1,\n",
    "2,\n",
    "2,\n",
    "2,\n",
    "1,\n",
    "3,\n",
    "1,\n",
    "1,\n",
    "2,\n",
    "1,\n",
    "1,\n",
    "1,\n",
    "-1,\n",
    "-1,\n",
    "1,\n",
    "1,\n",
    "1,\n",
    "-1\n",
    "]}\n",
    "\n",
    "df = pd.DataFrame(cafeshop, columns= ['Name', 'Rating','Price'])\n",
    "df"
   ]
  },
  {
   "cell_type": "code",
   "execution_count": 124,
   "metadata": {},
   "outputs": [
    {
     "data": {
      "text/plain": [
       "<matplotlib.axes._subplots.AxesSubplot at 0x7f69fea430f0>"
      ]
     },
     "execution_count": 124,
     "metadata": {},
     "output_type": "execute_result"
    },
    {
     "data": {
      "image/png": "[encoded data removed]",
      "text/plain": [
       "<Figure size 432x288 with 1 Axes>"
      ]
     },
     "metadata": {
      "needs_background": "light"
     },
     "output_type": "display_data"
    }
   ],
   "source": [
    "import matplotlib.pyplot as plt\n",
    "cafe_scatter = df.plot.scatter(x='Price',\n",
    "                      y='Rating',\n",
    "                      c='DarkBlue')\n",
    "\n",
    "cafe_scatter"
   ]
  },
  {
   "cell_type": "code",
   "execution_count": 127,
   "metadata": {},
   "outputs": [
    {
     "data": {
      "image/png": "[encoded data removed]",
      "text/plain": [
       "<Figure size 432x288 with 1 Axes>"
      ]
     },
     "metadata": {
      "needs_background": "light"
     },
     "output_type": "display_data"
    }
   ],
   "source": [
    "ax = df.plot.bar(rot=0)"
   ]
  },
  {
   "cell_type": "code",
   "execution_count": null,
   "metadata": {},
   "outputs": [],
   "source": []
  }
 ],
 "metadata": {
  "kernelspec": {
   "display_name": "Python",
   "language": "python",
   "name": "conda-env-python-py"
  },
  "language_info": {
   "codemirror_mode": {
    "name": "ipython",
    "version": 3
   },
   "file_extension": ".py",
   "mimetype": "text/x-python",
   "name": "python",
   "nbconvert_exporter": "python",
   "pygments_lexer": "ipython3",
   "version": "3.6.7"
  }
 },
 "nbformat": 4,
 "nbformat_minor": 4
}

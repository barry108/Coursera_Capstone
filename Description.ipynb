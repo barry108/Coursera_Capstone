{
 "cells": [
  {
   "cell_type": "code",
   "execution_count": null,
   "metadata": {},
   "outputs": [],
   "source": [
    "#I have defined a problem as: To find the best coffee shop in Bronx.\n",
    "#In order to solve this problem, I frist run all the coffee shops available in Bronx, and pick all the features avaliable on Foursquare to compare.\n",
    "# Comparison features in my data include: stars, number of people who gave stars, number of people who left comments, the frequency of good words shown in comments."
   ]
  }
 ],
 "metadata": {
  "kernelspec": {
   "display_name": "Python",
   "language": "python",
   "name": "conda-env-python-py"
  },
  "language_info": {
   "codemirror_mode": {
    "name": "ipython",
    "version": 3
   },
   "file_extension": ".py",
   "mimetype": "text/x-python",
   "name": "python",
   "nbconvert_exporter": "python",
   "pygments_lexer": "ipython3",
   "version": "3.6.7"
  }
 },
 "nbformat": 4,
 "nbformat_minor": 4
}
